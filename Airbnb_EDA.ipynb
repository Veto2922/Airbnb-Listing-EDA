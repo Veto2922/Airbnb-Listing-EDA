{
 "cells": [
  {
   "cell_type": "code",
   "execution_count": 121,
   "metadata": {},
   "outputs": [],
   "source": [
    "import pandas as pd\n",
    "import matplotlib.pyplot as plt\n",
    "import seaborn as sns\n"
   ]
  },
  {
   "cell_type": "code",
   "execution_count": 122,
   "metadata": {},
   "outputs": [],
   "source": [
    "df = pd.read_csv('listings.csv')\n"
   ]
  },
  {
   "cell_type": "markdown",
   "metadata": {},
   "source": [
    "### 1)Explore the data\n"
   ]
  },
  {
   "cell_type": "code",
   "execution_count": 123,
   "metadata": {},
   "outputs": [
    {
     "data": {
      "text/html": [
       "<div>\n",
       "<style scoped>\n",
       "    .dataframe tbody tr th:only-of-type {\n",
       "        vertical-align: middle;\n",
       "    }\n",
       "\n",
       "    .dataframe tbody tr th {\n",
       "        vertical-align: top;\n",
       "    }\n",
       "\n",
       "    .dataframe thead th {\n",
       "        text-align: right;\n",
       "    }\n",
       "</style>\n",
       "<table border=\"1\" class=\"dataframe\">\n",
       "  <thead>\n",
       "    <tr style=\"text-align: right;\">\n",
       "      <th></th>\n",
       "      <th>id</th>\n",
       "      <th>listing_url</th>\n",
       "      <th>scrape_id</th>\n",
       "      <th>last_scraped</th>\n",
       "      <th>source</th>\n",
       "      <th>name</th>\n",
       "      <th>description</th>\n",
       "      <th>neighborhood_overview</th>\n",
       "      <th>picture_url</th>\n",
       "      <th>host_id</th>\n",
       "      <th>...</th>\n",
       "      <th>review_scores_communication</th>\n",
       "      <th>review_scores_location</th>\n",
       "      <th>review_scores_value</th>\n",
       "      <th>license</th>\n",
       "      <th>instant_bookable</th>\n",
       "      <th>calculated_host_listings_count</th>\n",
       "      <th>calculated_host_listings_count_entire_homes</th>\n",
       "      <th>calculated_host_listings_count_private_rooms</th>\n",
       "      <th>calculated_host_listings_count_shared_rooms</th>\n",
       "      <th>reviews_per_month</th>\n",
       "    </tr>\n",
       "  </thead>\n",
       "  <tbody>\n",
       "    <tr>\n",
       "      <th>0</th>\n",
       "      <td>2595</td>\n",
       "      <td>https://www.airbnb.com/rooms/2595</td>\n",
       "      <td>20230605012709</td>\n",
       "      <td>2023-06-05</td>\n",
       "      <td>city scrape</td>\n",
       "      <td>Rental unit in New York · ★4.68 · Studio · 1 b...</td>\n",
       "      <td>Beautiful, spacious skylit studio in the heart...</td>\n",
       "      <td>Centrally located in the heart of Manhattan ju...</td>\n",
       "      <td>https://a0.muscache.com/pictures/miso/Hosting-...</td>\n",
       "      <td>2845</td>\n",
       "      <td>...</td>\n",
       "      <td>4.80</td>\n",
       "      <td>4.81</td>\n",
       "      <td>4.40</td>\n",
       "      <td>NaN</td>\n",
       "      <td>f</td>\n",
       "      <td>3</td>\n",
       "      <td>3</td>\n",
       "      <td>0</td>\n",
       "      <td>0</td>\n",
       "      <td>0.30</td>\n",
       "    </tr>\n",
       "    <tr>\n",
       "      <th>1</th>\n",
       "      <td>5121</td>\n",
       "      <td>https://www.airbnb.com/rooms/5121</td>\n",
       "      <td>20230605012709</td>\n",
       "      <td>2023-06-05</td>\n",
       "      <td>previous scrape</td>\n",
       "      <td>Rental unit in Brooklyn · ★4.52 · 1 bedroom · ...</td>\n",
       "      <td>One room available for rent in a 2 bedroom apt...</td>\n",
       "      <td>NaN</td>\n",
       "      <td>https://a0.muscache.com/pictures/2090980c-b68e...</td>\n",
       "      <td>7356</td>\n",
       "      <td>...</td>\n",
       "      <td>4.91</td>\n",
       "      <td>4.47</td>\n",
       "      <td>4.52</td>\n",
       "      <td>NaN</td>\n",
       "      <td>f</td>\n",
       "      <td>2</td>\n",
       "      <td>0</td>\n",
       "      <td>2</td>\n",
       "      <td>0</td>\n",
       "      <td>0.29</td>\n",
       "    </tr>\n",
       "    <tr>\n",
       "      <th>2</th>\n",
       "      <td>14991</td>\n",
       "      <td>https://www.airbnb.com/rooms/14991</td>\n",
       "      <td>20230605012709</td>\n",
       "      <td>2023-06-05</td>\n",
       "      <td>city scrape</td>\n",
       "      <td>Rental unit in New York · ★4.93 · 1 bedroom · ...</td>\n",
       "      <td>Room for rent in my Manhattan apartment. The a...</td>\n",
       "      <td>NaN</td>\n",
       "      <td>https://a0.muscache.com/pictures/56919050/b99e...</td>\n",
       "      <td>59023</td>\n",
       "      <td>...</td>\n",
       "      <td>4.92</td>\n",
       "      <td>4.92</td>\n",
       "      <td>4.85</td>\n",
       "      <td>NaN</td>\n",
       "      <td>f</td>\n",
       "      <td>1</td>\n",
       "      <td>0</td>\n",
       "      <td>1</td>\n",
       "      <td>0</td>\n",
       "      <td>0.14</td>\n",
       "    </tr>\n",
       "    <tr>\n",
       "      <th>3</th>\n",
       "      <td>5136</td>\n",
       "      <td>https://www.airbnb.com/rooms/5136</td>\n",
       "      <td>20230605012709</td>\n",
       "      <td>2023-06-05</td>\n",
       "      <td>city scrape</td>\n",
       "      <td>Rental unit in Brooklyn · ★5.0 · 2 bedrooms · ...</td>\n",
       "      <td>We welcome you to stay in our lovely 2 br dupl...</td>\n",
       "      <td>NaN</td>\n",
       "      <td>https://a0.muscache.com/pictures/miso/Hosting-...</td>\n",
       "      <td>7378</td>\n",
       "      <td>...</td>\n",
       "      <td>5.00</td>\n",
       "      <td>4.67</td>\n",
       "      <td>5.00</td>\n",
       "      <td>NaN</td>\n",
       "      <td>f</td>\n",
       "      <td>1</td>\n",
       "      <td>1</td>\n",
       "      <td>0</td>\n",
       "      <td>0</td>\n",
       "      <td>0.03</td>\n",
       "    </tr>\n",
       "    <tr>\n",
       "      <th>4</th>\n",
       "      <td>15341</td>\n",
       "      <td>https://www.airbnb.com/rooms/15341</td>\n",
       "      <td>20230605012709</td>\n",
       "      <td>2023-06-05</td>\n",
       "      <td>city scrape</td>\n",
       "      <td>Condo in New York · ★4.56 · 1 bedroom · 2 beds...</td>\n",
       "      <td>Greetings! &lt;br /&gt;&lt;br /&gt;Come relax here after y...</td>\n",
       "      <td>This 1-bedroom apartment is conveniently locat...</td>\n",
       "      <td>https://a0.muscache.com/pictures/16faf1ad-cb1f...</td>\n",
       "      <td>60049</td>\n",
       "      <td>...</td>\n",
       "      <td>4.80</td>\n",
       "      <td>4.71</td>\n",
       "      <td>4.34</td>\n",
       "      <td>NaN</td>\n",
       "      <td>f</td>\n",
       "      <td>1</td>\n",
       "      <td>1</td>\n",
       "      <td>0</td>\n",
       "      <td>0</td>\n",
       "      <td>0.30</td>\n",
       "    </tr>\n",
       "  </tbody>\n",
       "</table>\n",
       "<p>5 rows × 75 columns</p>\n",
       "</div>"
      ],
      "text/plain": [
       "      id                         listing_url       scrape_id last_scraped  \\\n",
       "0   2595   https://www.airbnb.com/rooms/2595  20230605012709   2023-06-05   \n",
       "1   5121   https://www.airbnb.com/rooms/5121  20230605012709   2023-06-05   \n",
       "2  14991  https://www.airbnb.com/rooms/14991  20230605012709   2023-06-05   \n",
       "3   5136   https://www.airbnb.com/rooms/5136  20230605012709   2023-06-05   \n",
       "4  15341  https://www.airbnb.com/rooms/15341  20230605012709   2023-06-05   \n",
       "\n",
       "            source                                               name  \\\n",
       "0      city scrape  Rental unit in New York · ★4.68 · Studio · 1 b...   \n",
       "1  previous scrape  Rental unit in Brooklyn · ★4.52 · 1 bedroom · ...   \n",
       "2      city scrape  Rental unit in New York · ★4.93 · 1 bedroom · ...   \n",
       "3      city scrape  Rental unit in Brooklyn · ★5.0 · 2 bedrooms · ...   \n",
       "4      city scrape  Condo in New York · ★4.56 · 1 bedroom · 2 beds...   \n",
       "\n",
       "                                         description  \\\n",
       "0  Beautiful, spacious skylit studio in the heart...   \n",
       "1  One room available for rent in a 2 bedroom apt...   \n",
       "2  Room for rent in my Manhattan apartment. The a...   \n",
       "3  We welcome you to stay in our lovely 2 br dupl...   \n",
       "4  Greetings! <br /><br />Come relax here after y...   \n",
       "\n",
       "                               neighborhood_overview  \\\n",
       "0  Centrally located in the heart of Manhattan ju...   \n",
       "1                                                NaN   \n",
       "2                                                NaN   \n",
       "3                                                NaN   \n",
       "4  This 1-bedroom apartment is conveniently locat...   \n",
       "\n",
       "                                         picture_url  host_id  ...  \\\n",
       "0  https://a0.muscache.com/pictures/miso/Hosting-...     2845  ...   \n",
       "1  https://a0.muscache.com/pictures/2090980c-b68e...     7356  ...   \n",
       "2  https://a0.muscache.com/pictures/56919050/b99e...    59023  ...   \n",
       "3  https://a0.muscache.com/pictures/miso/Hosting-...     7378  ...   \n",
       "4  https://a0.muscache.com/pictures/16faf1ad-cb1f...    60049  ...   \n",
       "\n",
       "  review_scores_communication review_scores_location review_scores_value  \\\n",
       "0                        4.80                   4.81                4.40   \n",
       "1                        4.91                   4.47                4.52   \n",
       "2                        4.92                   4.92                4.85   \n",
       "3                        5.00                   4.67                5.00   \n",
       "4                        4.80                   4.71                4.34   \n",
       "\n",
       "  license instant_bookable calculated_host_listings_count  \\\n",
       "0     NaN                f                              3   \n",
       "1     NaN                f                              2   \n",
       "2     NaN                f                              1   \n",
       "3     NaN                f                              1   \n",
       "4     NaN                f                              1   \n",
       "\n",
       "  calculated_host_listings_count_entire_homes  \\\n",
       "0                                           3   \n",
       "1                                           0   \n",
       "2                                           0   \n",
       "3                                           1   \n",
       "4                                           1   \n",
       "\n",
       "  calculated_host_listings_count_private_rooms  \\\n",
       "0                                            0   \n",
       "1                                            2   \n",
       "2                                            1   \n",
       "3                                            0   \n",
       "4                                            0   \n",
       "\n",
       "  calculated_host_listings_count_shared_rooms reviews_per_month  \n",
       "0                                           0              0.30  \n",
       "1                                           0              0.29  \n",
       "2                                           0              0.14  \n",
       "3                                           0              0.03  \n",
       "4                                           0              0.30  \n",
       "\n",
       "[5 rows x 75 columns]"
      ]
     },
     "execution_count": 123,
     "metadata": {},
     "output_type": "execute_result"
    }
   ],
   "source": [
    "df.head()\n"
   ]
  },
  {
   "cell_type": "code",
   "execution_count": 124,
   "metadata": {},
   "outputs": [
    {
     "data": {
      "text/plain": [
       "(43566, 75)"
      ]
     },
     "execution_count": 124,
     "metadata": {},
     "output_type": "execute_result"
    }
   ],
   "source": [
    "df.shape\n"
   ]
  },
  {
   "cell_type": "code",
   "execution_count": 125,
   "metadata": {},
   "outputs": [
    {
     "data": {
      "text/plain": [
       "Index(['id', 'listing_url', 'scrape_id', 'last_scraped', 'source', 'name',\n",
       "       'description', 'neighborhood_overview', 'picture_url', 'host_id',\n",
       "       'host_url', 'host_name', 'host_since', 'host_location', 'host_about',\n",
       "       'host_response_time', 'host_response_rate', 'host_acceptance_rate',\n",
       "       'host_is_superhost', 'host_thumbnail_url', 'host_picture_url',\n",
       "       'host_neighbourhood', 'host_listings_count',\n",
       "       'host_total_listings_count', 'host_verifications',\n",
       "       'host_has_profile_pic', 'host_identity_verified', 'neighbourhood',\n",
       "       'neighbourhood_cleansed', 'neighbourhood_group_cleansed', 'latitude',\n",
       "       'longitude', 'property_type', 'room_type', 'accommodates', 'bathrooms',\n",
       "       'bathrooms_text', 'bedrooms', 'beds', 'amenities', 'price',\n",
       "       'minimum_nights', 'maximum_nights', 'minimum_minimum_nights',\n",
       "       'maximum_minimum_nights', 'minimum_maximum_nights',\n",
       "       'maximum_maximum_nights', 'minimum_nights_avg_ntm',\n",
       "       'maximum_nights_avg_ntm', 'calendar_updated', 'has_availability',\n",
       "       'availability_30', 'availability_60', 'availability_90',\n",
       "       'availability_365', 'calendar_last_scraped', 'number_of_reviews',\n",
       "       'number_of_reviews_ltm', 'number_of_reviews_l30d', 'first_review',\n",
       "       'last_review', 'review_scores_rating', 'review_scores_accuracy',\n",
       "       'review_scores_cleanliness', 'review_scores_checkin',\n",
       "       'review_scores_communication', 'review_scores_location',\n",
       "       'review_scores_value', 'license', 'instant_bookable',\n",
       "       'calculated_host_listings_count',\n",
       "       'calculated_host_listings_count_entire_homes',\n",
       "       'calculated_host_listings_count_private_rooms',\n",
       "       'calculated_host_listings_count_shared_rooms', 'reviews_per_month'],\n",
       "      dtype='object')"
      ]
     },
     "execution_count": 125,
     "metadata": {},
     "output_type": "execute_result"
    }
   ],
   "source": [
    "df.columns\n"
   ]
  },
  {
   "cell_type": "code",
   "execution_count": 126,
   "metadata": {},
   "outputs": [],
   "source": [
    "important_columns = [\n",
    "    'host_name',\n",
    "    'room_type',\n",
    "    'bathrooms', 'bedrooms', 'beds',\n",
    "    'has_availability', 'availability_365',\n",
    "    'review_scores_rating',\n",
    "    'price'\n",
    "]\n"
   ]
  },
  {
   "cell_type": "code",
   "execution_count": 127,
   "metadata": {},
   "outputs": [],
   "source": [
    "df2 = df[important_columns]\n"
   ]
  },
  {
   "cell_type": "code",
   "execution_count": 128,
   "metadata": {},
   "outputs": [
    {
     "data": {
      "text/html": [
       "<div>\n",
       "<style scoped>\n",
       "    .dataframe tbody tr th:only-of-type {\n",
       "        vertical-align: middle;\n",
       "    }\n",
       "\n",
       "    .dataframe tbody tr th {\n",
       "        vertical-align: top;\n",
       "    }\n",
       "\n",
       "    .dataframe thead th {\n",
       "        text-align: right;\n",
       "    }\n",
       "</style>\n",
       "<table border=\"1\" class=\"dataframe\">\n",
       "  <thead>\n",
       "    <tr style=\"text-align: right;\">\n",
       "      <th></th>\n",
       "      <th>host_name</th>\n",
       "      <th>room_type</th>\n",
       "      <th>bathrooms</th>\n",
       "      <th>bedrooms</th>\n",
       "      <th>beds</th>\n",
       "      <th>has_availability</th>\n",
       "      <th>availability_365</th>\n",
       "      <th>review_scores_rating</th>\n",
       "      <th>price</th>\n",
       "    </tr>\n",
       "  </thead>\n",
       "  <tbody>\n",
       "    <tr>\n",
       "      <th>0</th>\n",
       "      <td>Jennifer</td>\n",
       "      <td>Entire home/apt</td>\n",
       "      <td>NaN</td>\n",
       "      <td>NaN</td>\n",
       "      <td>1.0</td>\n",
       "      <td>t</td>\n",
       "      <td>325</td>\n",
       "      <td>4.68</td>\n",
       "      <td>$240.00</td>\n",
       "    </tr>\n",
       "    <tr>\n",
       "      <th>1</th>\n",
       "      <td>Garon</td>\n",
       "      <td>Private room</td>\n",
       "      <td>NaN</td>\n",
       "      <td>NaN</td>\n",
       "      <td>1.0</td>\n",
       "      <td>t</td>\n",
       "      <td>0</td>\n",
       "      <td>4.52</td>\n",
       "      <td>$60.00</td>\n",
       "    </tr>\n",
       "    <tr>\n",
       "      <th>2</th>\n",
       "      <td>Bianca</td>\n",
       "      <td>Private room</td>\n",
       "      <td>NaN</td>\n",
       "      <td>NaN</td>\n",
       "      <td>1.0</td>\n",
       "      <td>t</td>\n",
       "      <td>268</td>\n",
       "      <td>4.93</td>\n",
       "      <td>$120.00</td>\n",
       "    </tr>\n",
       "    <tr>\n",
       "      <th>3</th>\n",
       "      <td>Rebecca</td>\n",
       "      <td>Entire home/apt</td>\n",
       "      <td>NaN</td>\n",
       "      <td>2.0</td>\n",
       "      <td>2.0</td>\n",
       "      <td>t</td>\n",
       "      <td>275</td>\n",
       "      <td>5.00</td>\n",
       "      <td>$276.00</td>\n",
       "    </tr>\n",
       "    <tr>\n",
       "      <th>4</th>\n",
       "      <td>Ted</td>\n",
       "      <td>Entire home/apt</td>\n",
       "      <td>NaN</td>\n",
       "      <td>1.0</td>\n",
       "      <td>2.0</td>\n",
       "      <td>t</td>\n",
       "      <td>160</td>\n",
       "      <td>4.56</td>\n",
       "      <td>$315.00</td>\n",
       "    </tr>\n",
       "  </tbody>\n",
       "</table>\n",
       "</div>"
      ],
      "text/plain": [
       "  host_name        room_type  bathrooms  bedrooms  beds has_availability  \\\n",
       "0  Jennifer  Entire home/apt        NaN       NaN   1.0                t   \n",
       "1     Garon     Private room        NaN       NaN   1.0                t   \n",
       "2    Bianca     Private room        NaN       NaN   1.0                t   \n",
       "3   Rebecca  Entire home/apt        NaN       2.0   2.0                t   \n",
       "4       Ted  Entire home/apt        NaN       1.0   2.0                t   \n",
       "\n",
       "   availability_365  review_scores_rating    price  \n",
       "0               325                  4.68  $240.00  \n",
       "1                 0                  4.52   $60.00  \n",
       "2               268                  4.93  $120.00  \n",
       "3               275                  5.00  $276.00  \n",
       "4               160                  4.56  $315.00  "
      ]
     },
     "execution_count": 128,
     "metadata": {},
     "output_type": "execute_result"
    }
   ],
   "source": [
    "df2.head()\n"
   ]
  },
  {
   "cell_type": "code",
   "execution_count": 129,
   "metadata": {},
   "outputs": [
    {
     "name": "stdout",
     "output_type": "stream",
     "text": [
      "<class 'pandas.core.frame.DataFrame'>\n",
      "RangeIndex: 43566 entries, 0 to 43565\n",
      "Data columns (total 9 columns):\n",
      " #   Column                Non-Null Count  Dtype  \n",
      "---  ------                --------------  -----  \n",
      " 0   host_name             43561 non-null  object \n",
      " 1   room_type             43566 non-null  object \n",
      " 2   bathrooms             0 non-null      float64\n",
      " 3   bedrooms              25073 non-null  float64\n",
      " 4   beds                  42765 non-null  float64\n",
      " 5   has_availability      43566 non-null  object \n",
      " 6   availability_365      43566 non-null  int64  \n",
      " 7   review_scores_rating  33070 non-null  float64\n",
      " 8   price                 43566 non-null  object \n",
      "dtypes: float64(4), int64(1), object(4)\n",
      "memory usage: 3.0+ MB\n"
     ]
    }
   ],
   "source": [
    "df2.info()\n"
   ]
  },
  {
   "cell_type": "code",
   "execution_count": 130,
   "metadata": {},
   "outputs": [
    {
     "name": "stderr",
     "output_type": "stream",
     "text": [
      "C:\\Users\\xobed\\AppData\\Local\\Temp\\ipykernel_12376\\1913231657.py:1: SettingWithCopyWarning: \n",
      "A value is trying to be set on a copy of a slice from a DataFrame\n",
      "\n",
      "See the caveats in the documentation: https://pandas.pydata.org/pandas-docs/stable/user_guide/indexing.html#returning-a-view-versus-a-copy\n",
      "  df2.drop('bathrooms', axis=1, inplace=True)\n"
     ]
    }
   ],
   "source": [
    "df2.drop('bathrooms', axis=1, inplace=True)\n"
   ]
  },
  {
   "cell_type": "code",
   "execution_count": 131,
   "metadata": {},
   "outputs": [
    {
     "data": {
      "text/html": [
       "<div>\n",
       "<style scoped>\n",
       "    .dataframe tbody tr th:only-of-type {\n",
       "        vertical-align: middle;\n",
       "    }\n",
       "\n",
       "    .dataframe tbody tr th {\n",
       "        vertical-align: top;\n",
       "    }\n",
       "\n",
       "    .dataframe thead th {\n",
       "        text-align: right;\n",
       "    }\n",
       "</style>\n",
       "<table border=\"1\" class=\"dataframe\">\n",
       "  <thead>\n",
       "    <tr style=\"text-align: right;\">\n",
       "      <th></th>\n",
       "      <th>bedrooms</th>\n",
       "      <th>beds</th>\n",
       "      <th>availability_365</th>\n",
       "      <th>review_scores_rating</th>\n",
       "    </tr>\n",
       "  </thead>\n",
       "  <tbody>\n",
       "    <tr>\n",
       "      <th>count</th>\n",
       "      <td>25073.000000</td>\n",
       "      <td>42765.000000</td>\n",
       "      <td>43566.000000</td>\n",
       "      <td>33070.000000</td>\n",
       "    </tr>\n",
       "    <tr>\n",
       "      <th>mean</th>\n",
       "      <td>1.592909</td>\n",
       "      <td>1.659067</td>\n",
       "      <td>136.998256</td>\n",
       "      <td>4.637119</td>\n",
       "    </tr>\n",
       "    <tr>\n",
       "      <th>std</th>\n",
       "      <td>0.922746</td>\n",
       "      <td>1.173349</td>\n",
       "      <td>137.346191</td>\n",
       "      <td>0.709516</td>\n",
       "    </tr>\n",
       "    <tr>\n",
       "      <th>min</th>\n",
       "      <td>1.000000</td>\n",
       "      <td>1.000000</td>\n",
       "      <td>0.000000</td>\n",
       "      <td>0.000000</td>\n",
       "    </tr>\n",
       "    <tr>\n",
       "      <th>25%</th>\n",
       "      <td>1.000000</td>\n",
       "      <td>1.000000</td>\n",
       "      <td>0.000000</td>\n",
       "      <td>4.600000</td>\n",
       "    </tr>\n",
       "    <tr>\n",
       "      <th>50%</th>\n",
       "      <td>1.000000</td>\n",
       "      <td>1.000000</td>\n",
       "      <td>89.000000</td>\n",
       "      <td>4.830000</td>\n",
       "    </tr>\n",
       "    <tr>\n",
       "      <th>75%</th>\n",
       "      <td>2.000000</td>\n",
       "      <td>2.000000</td>\n",
       "      <td>278.000000</td>\n",
       "      <td>5.000000</td>\n",
       "    </tr>\n",
       "    <tr>\n",
       "      <th>max</th>\n",
       "      <td>26.000000</td>\n",
       "      <td>42.000000</td>\n",
       "      <td>365.000000</td>\n",
       "      <td>5.000000</td>\n",
       "    </tr>\n",
       "  </tbody>\n",
       "</table>\n",
       "</div>"
      ],
      "text/plain": [
       "           bedrooms          beds  availability_365  review_scores_rating\n",
       "count  25073.000000  42765.000000      43566.000000          33070.000000\n",
       "mean       1.592909      1.659067        136.998256              4.637119\n",
       "std        0.922746      1.173349        137.346191              0.709516\n",
       "min        1.000000      1.000000          0.000000              0.000000\n",
       "25%        1.000000      1.000000          0.000000              4.600000\n",
       "50%        1.000000      1.000000         89.000000              4.830000\n",
       "75%        2.000000      2.000000        278.000000              5.000000\n",
       "max       26.000000     42.000000        365.000000              5.000000"
      ]
     },
     "execution_count": 131,
     "metadata": {},
     "output_type": "execute_result"
    }
   ],
   "source": [
    "df2.describe()\n"
   ]
  },
  {
   "cell_type": "markdown",
   "metadata": {},
   "source": [
    "### 2-Preprocessing\n"
   ]
  },
  {
   "cell_type": "code",
   "execution_count": 132,
   "metadata": {},
   "outputs": [
    {
     "name": "stderr",
     "output_type": "stream",
     "text": [
      "C:\\Users\\xobed\\AppData\\Local\\Temp\\ipykernel_12376\\2614231370.py:1: FutureWarning: The default value of regex will change from True to False in a future version. In addition, single character regular expressions will *not* be treated as literal strings when regex=True.\n",
      "  df2['price'] = df2['price'].str.replace('$', '')\n",
      "C:\\Users\\xobed\\AppData\\Local\\Temp\\ipykernel_12376\\2614231370.py:1: SettingWithCopyWarning: \n",
      "A value is trying to be set on a copy of a slice from a DataFrame.\n",
      "Try using .loc[row_indexer,col_indexer] = value instead\n",
      "\n",
      "See the caveats in the documentation: https://pandas.pydata.org/pandas-docs/stable/user_guide/indexing.html#returning-a-view-versus-a-copy\n",
      "  df2['price'] = df2['price'].str.replace('$', '')\n"
     ]
    }
   ],
   "source": [
    "df2['price'] = df2['price'].str.replace('$', '')\n"
   ]
  },
  {
   "cell_type": "code",
   "execution_count": 133,
   "metadata": {},
   "outputs": [
    {
     "name": "stderr",
     "output_type": "stream",
     "text": [
      "C:\\Users\\xobed\\AppData\\Local\\Temp\\ipykernel_12376\\2203622580.py:1: SettingWithCopyWarning: \n",
      "A value is trying to be set on a copy of a slice from a DataFrame.\n",
      "Try using .loc[row_indexer,col_indexer] = value instead\n",
      "\n",
      "See the caveats in the documentation: https://pandas.pydata.org/pandas-docs/stable/user_guide/indexing.html#returning-a-view-versus-a-copy\n",
      "  df2['price'] = df2['price'].str.replace(',', '')\n"
     ]
    }
   ],
   "source": [
    "df2['price'] = df2['price'].str.replace(',', '')\n"
   ]
  },
  {
   "cell_type": "code",
   "execution_count": 134,
   "metadata": {},
   "outputs": [
    {
     "name": "stderr",
     "output_type": "stream",
     "text": [
      "C:\\Users\\xobed\\AppData\\Local\\Temp\\ipykernel_12376\\566884258.py:1: SettingWithCopyWarning: \n",
      "A value is trying to be set on a copy of a slice from a DataFrame.\n",
      "Try using .loc[row_indexer,col_indexer] = value instead\n",
      "\n",
      "See the caveats in the documentation: https://pandas.pydata.org/pandas-docs/stable/user_guide/indexing.html#returning-a-view-versus-a-copy\n",
      "  df2['price'] = df2['price'].astype(float)\n"
     ]
    }
   ],
   "source": [
    "df2['price'] = df2['price'].astype(float)\n"
   ]
  },
  {
   "cell_type": "code",
   "execution_count": 135,
   "metadata": {},
   "outputs": [
    {
     "name": "stdout",
     "output_type": "stream",
     "text": [
      "<class 'pandas.core.frame.DataFrame'>\n",
      "RangeIndex: 43566 entries, 0 to 43565\n",
      "Data columns (total 8 columns):\n",
      " #   Column                Non-Null Count  Dtype  \n",
      "---  ------                --------------  -----  \n",
      " 0   host_name             43561 non-null  object \n",
      " 1   room_type             43566 non-null  object \n",
      " 2   bedrooms              25073 non-null  float64\n",
      " 3   beds                  42765 non-null  float64\n",
      " 4   has_availability      43566 non-null  object \n",
      " 5   availability_365      43566 non-null  int64  \n",
      " 6   review_scores_rating  33070 non-null  float64\n",
      " 7   price                 43566 non-null  float64\n",
      "dtypes: float64(4), int64(1), object(3)\n",
      "memory usage: 2.7+ MB\n"
     ]
    }
   ],
   "source": [
    "df2.info()\n"
   ]
  },
  {
   "cell_type": "code",
   "execution_count": 136,
   "metadata": {},
   "outputs": [
    {
     "data": {
      "text/html": [
       "<div>\n",
       "<style scoped>\n",
       "    .dataframe tbody tr th:only-of-type {\n",
       "        vertical-align: middle;\n",
       "    }\n",
       "\n",
       "    .dataframe tbody tr th {\n",
       "        vertical-align: top;\n",
       "    }\n",
       "\n",
       "    .dataframe thead th {\n",
       "        text-align: right;\n",
       "    }\n",
       "</style>\n",
       "<table border=\"1\" class=\"dataframe\">\n",
       "  <thead>\n",
       "    <tr style=\"text-align: right;\">\n",
       "      <th></th>\n",
       "      <th>bedrooms</th>\n",
       "      <th>beds</th>\n",
       "      <th>availability_365</th>\n",
       "      <th>review_scores_rating</th>\n",
       "      <th>price</th>\n",
       "    </tr>\n",
       "  </thead>\n",
       "  <tbody>\n",
       "    <tr>\n",
       "      <th>count</th>\n",
       "      <td>25073.000000</td>\n",
       "      <td>42765.000000</td>\n",
       "      <td>43566.000000</td>\n",
       "      <td>33070.000000</td>\n",
       "      <td>43566.000000</td>\n",
       "    </tr>\n",
       "    <tr>\n",
       "      <th>mean</th>\n",
       "      <td>1.592909</td>\n",
       "      <td>1.659067</td>\n",
       "      <td>136.998256</td>\n",
       "      <td>4.637119</td>\n",
       "      <td>225.216109</td>\n",
       "    </tr>\n",
       "    <tr>\n",
       "      <th>std</th>\n",
       "      <td>0.922746</td>\n",
       "      <td>1.173349</td>\n",
       "      <td>137.346191</td>\n",
       "      <td>0.709516</td>\n",
       "      <td>818.738268</td>\n",
       "    </tr>\n",
       "    <tr>\n",
       "      <th>min</th>\n",
       "      <td>1.000000</td>\n",
       "      <td>1.000000</td>\n",
       "      <td>0.000000</td>\n",
       "      <td>0.000000</td>\n",
       "      <td>0.000000</td>\n",
       "    </tr>\n",
       "    <tr>\n",
       "      <th>25%</th>\n",
       "      <td>1.000000</td>\n",
       "      <td>1.000000</td>\n",
       "      <td>0.000000</td>\n",
       "      <td>4.600000</td>\n",
       "      <td>80.000000</td>\n",
       "    </tr>\n",
       "    <tr>\n",
       "      <th>50%</th>\n",
       "      <td>1.000000</td>\n",
       "      <td>1.000000</td>\n",
       "      <td>89.000000</td>\n",
       "      <td>4.830000</td>\n",
       "      <td>136.000000</td>\n",
       "    </tr>\n",
       "    <tr>\n",
       "      <th>75%</th>\n",
       "      <td>2.000000</td>\n",
       "      <td>2.000000</td>\n",
       "      <td>278.000000</td>\n",
       "      <td>5.000000</td>\n",
       "      <td>228.000000</td>\n",
       "    </tr>\n",
       "    <tr>\n",
       "      <th>max</th>\n",
       "      <td>26.000000</td>\n",
       "      <td>42.000000</td>\n",
       "      <td>365.000000</td>\n",
       "      <td>5.000000</td>\n",
       "      <td>90120.000000</td>\n",
       "    </tr>\n",
       "  </tbody>\n",
       "</table>\n",
       "</div>"
      ],
      "text/plain": [
       "           bedrooms          beds  availability_365  review_scores_rating  \\\n",
       "count  25073.000000  42765.000000      43566.000000          33070.000000   \n",
       "mean       1.592909      1.659067        136.998256              4.637119   \n",
       "std        0.922746      1.173349        137.346191              0.709516   \n",
       "min        1.000000      1.000000          0.000000              0.000000   \n",
       "25%        1.000000      1.000000          0.000000              4.600000   \n",
       "50%        1.000000      1.000000         89.000000              4.830000   \n",
       "75%        2.000000      2.000000        278.000000              5.000000   \n",
       "max       26.000000     42.000000        365.000000              5.000000   \n",
       "\n",
       "              price  \n",
       "count  43566.000000  \n",
       "mean     225.216109  \n",
       "std      818.738268  \n",
       "min        0.000000  \n",
       "25%       80.000000  \n",
       "50%      136.000000  \n",
       "75%      228.000000  \n",
       "max    90120.000000  "
      ]
     },
     "execution_count": 136,
     "metadata": {},
     "output_type": "execute_result"
    }
   ],
   "source": [
    "df2.describe()\n"
   ]
  },
  {
   "cell_type": "markdown",
   "metadata": {},
   "source": [
    "## handle missing values\n"
   ]
  },
  {
   "cell_type": "code",
   "execution_count": 137,
   "metadata": {},
   "outputs": [
    {
     "data": {
      "text/plain": [
       "host_name                0.011477\n",
       "room_type                0.000000\n",
       "bedrooms                42.448239\n",
       "beds                     1.838590\n",
       "has_availability         0.000000\n",
       "availability_365         0.000000\n",
       "review_scores_rating    24.092182\n",
       "price                    0.000000\n",
       "dtype: float64"
      ]
     },
     "execution_count": 137,
     "metadata": {},
     "output_type": "execute_result"
    }
   ],
   "source": [
    "df2.isna().sum() / len(df2) * 100\n"
   ]
  },
  {
   "cell_type": "code",
   "execution_count": 138,
   "metadata": {},
   "outputs": [
    {
     "name": "stderr",
     "output_type": "stream",
     "text": [
      "C:\\Users\\xobed\\AppData\\Local\\Temp\\ipykernel_12376\\1461176839.py:1: SettingWithCopyWarning: \n",
      "A value is trying to be set on a copy of a slice from a DataFrame\n",
      "\n",
      "See the caveats in the documentation: https://pandas.pydata.org/pandas-docs/stable/user_guide/indexing.html#returning-a-view-versus-a-copy\n",
      "  df2.dropna(subset=['beds', 'host_name'], axis=0, inplace=True)\n"
     ]
    }
   ],
   "source": [
    "df2.dropna(subset=['beds', 'host_name'], axis=0, inplace=True)\n"
   ]
  },
  {
   "cell_type": "code",
   "execution_count": 139,
   "metadata": {},
   "outputs": [
    {
     "data": {
      "text/plain": [
       "host_name                0.000000\n",
       "room_type                0.000000\n",
       "bedrooms                42.027596\n",
       "beds                     0.000000\n",
       "has_availability         0.000000\n",
       "availability_365         0.000000\n",
       "review_scores_rating    23.917212\n",
       "price                    0.000000\n",
       "dtype: float64"
      ]
     },
     "execution_count": 139,
     "metadata": {},
     "output_type": "execute_result"
    }
   ],
   "source": [
    "df2.isna().sum() / len(df2) * 100\n"
   ]
  },
  {
   "cell_type": "code",
   "execution_count": 140,
   "metadata": {},
   "outputs": [
    {
     "data": {
      "text/html": [
       "<div>\n",
       "<style scoped>\n",
       "    .dataframe tbody tr th:only-of-type {\n",
       "        vertical-align: middle;\n",
       "    }\n",
       "\n",
       "    .dataframe tbody tr th {\n",
       "        vertical-align: top;\n",
       "    }\n",
       "\n",
       "    .dataframe thead th {\n",
       "        text-align: right;\n",
       "    }\n",
       "</style>\n",
       "<table border=\"1\" class=\"dataframe\">\n",
       "  <thead>\n",
       "    <tr style=\"text-align: right;\">\n",
       "      <th></th>\n",
       "      <th>host_name</th>\n",
       "      <th>room_type</th>\n",
       "      <th>bedrooms</th>\n",
       "      <th>beds</th>\n",
       "      <th>has_availability</th>\n",
       "      <th>availability_365</th>\n",
       "      <th>review_scores_rating</th>\n",
       "      <th>price</th>\n",
       "    </tr>\n",
       "  </thead>\n",
       "  <tbody>\n",
       "    <tr>\n",
       "      <th>34</th>\n",
       "      <td>Carol Gloria</td>\n",
       "      <td>Private room</td>\n",
       "      <td>NaN</td>\n",
       "      <td>2.0</td>\n",
       "      <td>t</td>\n",
       "      <td>0</td>\n",
       "      <td>NaN</td>\n",
       "      <td>89.0</td>\n",
       "    </tr>\n",
       "    <tr>\n",
       "      <th>39</th>\n",
       "      <td>Jade</td>\n",
       "      <td>Entire home/apt</td>\n",
       "      <td>1.0</td>\n",
       "      <td>2.0</td>\n",
       "      <td>t</td>\n",
       "      <td>249</td>\n",
       "      <td>NaN</td>\n",
       "      <td>215.0</td>\n",
       "    </tr>\n",
       "    <tr>\n",
       "      <th>45</th>\n",
       "      <td>David</td>\n",
       "      <td>Entire home/apt</td>\n",
       "      <td>1.0</td>\n",
       "      <td>1.0</td>\n",
       "      <td>f</td>\n",
       "      <td>0</td>\n",
       "      <td>NaN</td>\n",
       "      <td>200.0</td>\n",
       "    </tr>\n",
       "    <tr>\n",
       "      <th>47</th>\n",
       "      <td>Harriet</td>\n",
       "      <td>Private room</td>\n",
       "      <td>1.0</td>\n",
       "      <td>2.0</td>\n",
       "      <td>f</td>\n",
       "      <td>0</td>\n",
       "      <td>NaN</td>\n",
       "      <td>150.0</td>\n",
       "    </tr>\n",
       "    <tr>\n",
       "      <th>133</th>\n",
       "      <td>Wendy</td>\n",
       "      <td>Entire home/apt</td>\n",
       "      <td>1.0</td>\n",
       "      <td>1.0</td>\n",
       "      <td>t</td>\n",
       "      <td>0</td>\n",
       "      <td>NaN</td>\n",
       "      <td>150.0</td>\n",
       "    </tr>\n",
       "    <tr>\n",
       "      <th>...</th>\n",
       "      <td>...</td>\n",
       "      <td>...</td>\n",
       "      <td>...</td>\n",
       "      <td>...</td>\n",
       "      <td>...</td>\n",
       "      <td>...</td>\n",
       "      <td>...</td>\n",
       "      <td>...</td>\n",
       "    </tr>\n",
       "    <tr>\n",
       "      <th>43561</th>\n",
       "      <td>CrossOver</td>\n",
       "      <td>Entire home/apt</td>\n",
       "      <td>4.0</td>\n",
       "      <td>4.0</td>\n",
       "      <td>t</td>\n",
       "      <td>364</td>\n",
       "      <td>NaN</td>\n",
       "      <td>350.0</td>\n",
       "    </tr>\n",
       "    <tr>\n",
       "      <th>43562</th>\n",
       "      <td>RoomPicks By Antony</td>\n",
       "      <td>Private room</td>\n",
       "      <td>1.0</td>\n",
       "      <td>1.0</td>\n",
       "      <td>t</td>\n",
       "      <td>250</td>\n",
       "      <td>NaN</td>\n",
       "      <td>662.0</td>\n",
       "    </tr>\n",
       "    <tr>\n",
       "      <th>43563</th>\n",
       "      <td>CrossOver</td>\n",
       "      <td>Entire home/apt</td>\n",
       "      <td>4.0</td>\n",
       "      <td>4.0</td>\n",
       "      <td>t</td>\n",
       "      <td>364</td>\n",
       "      <td>NaN</td>\n",
       "      <td>387.0</td>\n",
       "    </tr>\n",
       "    <tr>\n",
       "      <th>43564</th>\n",
       "      <td>Isabella</td>\n",
       "      <td>Private room</td>\n",
       "      <td>1.0</td>\n",
       "      <td>1.0</td>\n",
       "      <td>f</td>\n",
       "      <td>8</td>\n",
       "      <td>NaN</td>\n",
       "      <td>51.0</td>\n",
       "    </tr>\n",
       "    <tr>\n",
       "      <th>43565</th>\n",
       "      <td>David</td>\n",
       "      <td>Entire home/apt</td>\n",
       "      <td>1.0</td>\n",
       "      <td>1.0</td>\n",
       "      <td>t</td>\n",
       "      <td>102</td>\n",
       "      <td>NaN</td>\n",
       "      <td>750.0</td>\n",
       "    </tr>\n",
       "  </tbody>\n",
       "</table>\n",
       "<p>10227 rows × 8 columns</p>\n",
       "</div>"
      ],
      "text/plain": [
       "                 host_name        room_type  bedrooms  beds has_availability  \\\n",
       "34            Carol Gloria     Private room       NaN   2.0                t   \n",
       "39                    Jade  Entire home/apt       1.0   2.0                t   \n",
       "45                   David  Entire home/apt       1.0   1.0                f   \n",
       "47                 Harriet     Private room       1.0   2.0                f   \n",
       "133                  Wendy  Entire home/apt       1.0   1.0                t   \n",
       "...                    ...              ...       ...   ...              ...   \n",
       "43561            CrossOver  Entire home/apt       4.0   4.0                t   \n",
       "43562  RoomPicks By Antony     Private room       1.0   1.0                t   \n",
       "43563            CrossOver  Entire home/apt       4.0   4.0                t   \n",
       "43564             Isabella     Private room       1.0   1.0                f   \n",
       "43565                David  Entire home/apt       1.0   1.0                t   \n",
       "\n",
       "       availability_365  review_scores_rating  price  \n",
       "34                    0                   NaN   89.0  \n",
       "39                  249                   NaN  215.0  \n",
       "45                    0                   NaN  200.0  \n",
       "47                    0                   NaN  150.0  \n",
       "133                   0                   NaN  150.0  \n",
       "...                 ...                   ...    ...  \n",
       "43561               364                   NaN  350.0  \n",
       "43562               250                   NaN  662.0  \n",
       "43563               364                   NaN  387.0  \n",
       "43564                 8                   NaN   51.0  \n",
       "43565               102                   NaN  750.0  \n",
       "\n",
       "[10227 rows x 8 columns]"
      ]
     },
     "execution_count": 140,
     "metadata": {},
     "output_type": "execute_result"
    }
   ],
   "source": [
    "df2[df2['review_scores_rating'].isna()]\n"
   ]
  },
  {
   "cell_type": "code",
   "execution_count": 141,
   "metadata": {},
   "outputs": [
    {
     "name": "stderr",
     "output_type": "stream",
     "text": [
      "C:\\Users\\xobed\\AppData\\Local\\Temp\\ipykernel_12376\\1859811655.py:1: SettingWithCopyWarning: \n",
      "A value is trying to be set on a copy of a slice from a DataFrame\n",
      "\n",
      "See the caveats in the documentation: https://pandas.pydata.org/pandas-docs/stable/user_guide/indexing.html#returning-a-view-versus-a-copy\n",
      "  df2['review_scores_rating'].fillna(0, inplace=True)\n"
     ]
    }
   ],
   "source": [
    "df2['review_scores_rating'].fillna(0, inplace=True)\n"
   ]
  },
  {
   "cell_type": "code",
   "execution_count": 142,
   "metadata": {},
   "outputs": [
    {
     "data": {
      "text/plain": [
       "host_name                0.000000\n",
       "room_type                0.000000\n",
       "bedrooms                42.027596\n",
       "beds                     0.000000\n",
       "has_availability         0.000000\n",
       "availability_365         0.000000\n",
       "review_scores_rating     0.000000\n",
       "price                    0.000000\n",
       "dtype: float64"
      ]
     },
     "execution_count": 142,
     "metadata": {},
     "output_type": "execute_result"
    }
   ],
   "source": [
    "df2.isna().sum() / len(df2) * 100\n"
   ]
  },
  {
   "cell_type": "code",
   "execution_count": 143,
   "metadata": {},
   "outputs": [
    {
     "data": {
      "text/html": [
       "<div>\n",
       "<style scoped>\n",
       "    .dataframe tbody tr th:only-of-type {\n",
       "        vertical-align: middle;\n",
       "    }\n",
       "\n",
       "    .dataframe tbody tr th {\n",
       "        vertical-align: top;\n",
       "    }\n",
       "\n",
       "    .dataframe thead th {\n",
       "        text-align: right;\n",
       "    }\n",
       "</style>\n",
       "<table border=\"1\" class=\"dataframe\">\n",
       "  <thead>\n",
       "    <tr style=\"text-align: right;\">\n",
       "      <th></th>\n",
       "      <th>host_name</th>\n",
       "      <th>room_type</th>\n",
       "      <th>bedrooms</th>\n",
       "      <th>beds</th>\n",
       "      <th>has_availability</th>\n",
       "      <th>availability_365</th>\n",
       "      <th>review_scores_rating</th>\n",
       "      <th>price</th>\n",
       "    </tr>\n",
       "  </thead>\n",
       "  <tbody>\n",
       "    <tr>\n",
       "      <th>0</th>\n",
       "      <td>Jennifer</td>\n",
       "      <td>Entire home/apt</td>\n",
       "      <td>NaN</td>\n",
       "      <td>1.0</td>\n",
       "      <td>t</td>\n",
       "      <td>325</td>\n",
       "      <td>4.68</td>\n",
       "      <td>240.0</td>\n",
       "    </tr>\n",
       "    <tr>\n",
       "      <th>1</th>\n",
       "      <td>Garon</td>\n",
       "      <td>Private room</td>\n",
       "      <td>NaN</td>\n",
       "      <td>1.0</td>\n",
       "      <td>t</td>\n",
       "      <td>0</td>\n",
       "      <td>4.52</td>\n",
       "      <td>60.0</td>\n",
       "    </tr>\n",
       "    <tr>\n",
       "      <th>2</th>\n",
       "      <td>Bianca</td>\n",
       "      <td>Private room</td>\n",
       "      <td>NaN</td>\n",
       "      <td>1.0</td>\n",
       "      <td>t</td>\n",
       "      <td>268</td>\n",
       "      <td>4.93</td>\n",
       "      <td>120.0</td>\n",
       "    </tr>\n",
       "    <tr>\n",
       "      <th>8</th>\n",
       "      <td>Shunichi</td>\n",
       "      <td>Private room</td>\n",
       "      <td>NaN</td>\n",
       "      <td>1.0</td>\n",
       "      <td>t</td>\n",
       "      <td>10</td>\n",
       "      <td>4.26</td>\n",
       "      <td>68.0</td>\n",
       "    </tr>\n",
       "    <tr>\n",
       "      <th>9</th>\n",
       "      <td>Cristina</td>\n",
       "      <td>Private room</td>\n",
       "      <td>NaN</td>\n",
       "      <td>1.0</td>\n",
       "      <td>t</td>\n",
       "      <td>225</td>\n",
       "      <td>4.86</td>\n",
       "      <td>91.0</td>\n",
       "    </tr>\n",
       "    <tr>\n",
       "      <th>...</th>\n",
       "      <td>...</td>\n",
       "      <td>...</td>\n",
       "      <td>...</td>\n",
       "      <td>...</td>\n",
       "      <td>...</td>\n",
       "      <td>...</td>\n",
       "      <td>...</td>\n",
       "      <td>...</td>\n",
       "    </tr>\n",
       "    <tr>\n",
       "      <th>43523</th>\n",
       "      <td>Kay</td>\n",
       "      <td>Private room</td>\n",
       "      <td>NaN</td>\n",
       "      <td>1.0</td>\n",
       "      <td>t</td>\n",
       "      <td>340</td>\n",
       "      <td>0.00</td>\n",
       "      <td>100.0</td>\n",
       "    </tr>\n",
       "    <tr>\n",
       "      <th>43532</th>\n",
       "      <td>Jacquelyn</td>\n",
       "      <td>Entire home/apt</td>\n",
       "      <td>NaN</td>\n",
       "      <td>1.0</td>\n",
       "      <td>f</td>\n",
       "      <td>37</td>\n",
       "      <td>0.00</td>\n",
       "      <td>109.0</td>\n",
       "    </tr>\n",
       "    <tr>\n",
       "      <th>43537</th>\n",
       "      <td>Julia</td>\n",
       "      <td>Entire home/apt</td>\n",
       "      <td>NaN</td>\n",
       "      <td>1.0</td>\n",
       "      <td>t</td>\n",
       "      <td>13</td>\n",
       "      <td>0.00</td>\n",
       "      <td>158.0</td>\n",
       "    </tr>\n",
       "    <tr>\n",
       "      <th>43543</th>\n",
       "      <td>Alex</td>\n",
       "      <td>Entire home/apt</td>\n",
       "      <td>NaN</td>\n",
       "      <td>1.0</td>\n",
       "      <td>t</td>\n",
       "      <td>180</td>\n",
       "      <td>0.00</td>\n",
       "      <td>350.0</td>\n",
       "    </tr>\n",
       "    <tr>\n",
       "      <th>43558</th>\n",
       "      <td>Moayed</td>\n",
       "      <td>Shared room</td>\n",
       "      <td>NaN</td>\n",
       "      <td>1.0</td>\n",
       "      <td>f</td>\n",
       "      <td>365</td>\n",
       "      <td>0.00</td>\n",
       "      <td>63.0</td>\n",
       "    </tr>\n",
       "  </tbody>\n",
       "</table>\n",
       "<p>17971 rows × 8 columns</p>\n",
       "</div>"
      ],
      "text/plain": [
       "       host_name        room_type  bedrooms  beds has_availability  \\\n",
       "0       Jennifer  Entire home/apt       NaN   1.0                t   \n",
       "1          Garon     Private room       NaN   1.0                t   \n",
       "2         Bianca     Private room       NaN   1.0                t   \n",
       "8       Shunichi     Private room       NaN   1.0                t   \n",
       "9       Cristina     Private room       NaN   1.0                t   \n",
       "...          ...              ...       ...   ...              ...   \n",
       "43523        Kay     Private room       NaN   1.0                t   \n",
       "43532  Jacquelyn  Entire home/apt       NaN   1.0                f   \n",
       "43537      Julia  Entire home/apt       NaN   1.0                t   \n",
       "43543       Alex  Entire home/apt       NaN   1.0                t   \n",
       "43558     Moayed      Shared room       NaN   1.0                f   \n",
       "\n",
       "       availability_365  review_scores_rating  price  \n",
       "0                   325                  4.68  240.0  \n",
       "1                     0                  4.52   60.0  \n",
       "2                   268                  4.93  120.0  \n",
       "8                    10                  4.26   68.0  \n",
       "9                   225                  4.86   91.0  \n",
       "...                 ...                   ...    ...  \n",
       "43523               340                  0.00  100.0  \n",
       "43532                37                  0.00  109.0  \n",
       "43537                13                  0.00  158.0  \n",
       "43543               180                  0.00  350.0  \n",
       "43558               365                  0.00   63.0  \n",
       "\n",
       "[17971 rows x 8 columns]"
      ]
     },
     "execution_count": 143,
     "metadata": {},
     "output_type": "execute_result"
    }
   ],
   "source": [
    "df2[df2['bedrooms'].isna()]\n"
   ]
  },
  {
   "cell_type": "code",
   "execution_count": 144,
   "metadata": {},
   "outputs": [
    {
     "data": {
      "text/plain": [
       "NaN     17971\n",
       "1.0     14940\n",
       "2.0      6358\n",
       "3.0      2529\n",
       "4.0       694\n",
       "5.0       167\n",
       "6.0        63\n",
       "7.0        17\n",
       "9.0         9\n",
       "8.0         6\n",
       "14.0        1\n",
       "21.0        1\n",
       "10.0        1\n",
       "26.0        1\n",
       "11.0        1\n",
       "15.0        1\n",
       "Name: bedrooms, dtype: int64"
      ]
     },
     "execution_count": 144,
     "metadata": {},
     "output_type": "execute_result"
    }
   ],
   "source": [
    "df2['bedrooms'].value_counts(dropna=False)\n"
   ]
  },
  {
   "cell_type": "code",
   "execution_count": 145,
   "metadata": {},
   "outputs": [
    {
     "name": "stderr",
     "output_type": "stream",
     "text": [
      "C:\\Users\\xobed\\AppData\\Local\\Temp\\ipykernel_12376\\1331191467.py:1: SettingWithCopyWarning: \n",
      "A value is trying to be set on a copy of a slice from a DataFrame\n",
      "\n",
      "See the caveats in the documentation: https://pandas.pydata.org/pandas-docs/stable/user_guide/indexing.html#returning-a-view-versus-a-copy\n",
      "  df2['bedrooms'].fillna(0, inplace=True)\n"
     ]
    }
   ],
   "source": [
    "df2['bedrooms'].fillna(0, inplace=True)\n"
   ]
  },
  {
   "cell_type": "code",
   "execution_count": 146,
   "metadata": {},
   "outputs": [
    {
     "data": {
      "text/plain": [
       "host_name               0.0\n",
       "room_type               0.0\n",
       "bedrooms                0.0\n",
       "beds                    0.0\n",
       "has_availability        0.0\n",
       "availability_365        0.0\n",
       "review_scores_rating    0.0\n",
       "price                   0.0\n",
       "dtype: float64"
      ]
     },
     "execution_count": 146,
     "metadata": {},
     "output_type": "execute_result"
    }
   ],
   "source": [
    "df2.isna().sum() / len(df2) * 100\n"
   ]
  },
  {
   "cell_type": "code",
   "execution_count": 147,
   "metadata": {},
   "outputs": [
    {
     "data": {
      "text/html": [
       "<div>\n",
       "<style scoped>\n",
       "    .dataframe tbody tr th:only-of-type {\n",
       "        vertical-align: middle;\n",
       "    }\n",
       "\n",
       "    .dataframe tbody tr th {\n",
       "        vertical-align: top;\n",
       "    }\n",
       "\n",
       "    .dataframe thead th {\n",
       "        text-align: right;\n",
       "    }\n",
       "</style>\n",
       "<table border=\"1\" class=\"dataframe\">\n",
       "  <thead>\n",
       "    <tr style=\"text-align: right;\">\n",
       "      <th></th>\n",
       "      <th>host_name</th>\n",
       "      <th>room_type</th>\n",
       "      <th>bedrooms</th>\n",
       "      <th>beds</th>\n",
       "      <th>has_availability</th>\n",
       "      <th>availability_365</th>\n",
       "      <th>review_scores_rating</th>\n",
       "      <th>price</th>\n",
       "    </tr>\n",
       "  </thead>\n",
       "  <tbody>\n",
       "    <tr>\n",
       "      <th>406</th>\n",
       "      <td>The Box House Hotel</td>\n",
       "      <td>Entire home/apt</td>\n",
       "      <td>1.0</td>\n",
       "      <td>2.0</td>\n",
       "      <td>t</td>\n",
       "      <td>124</td>\n",
       "      <td>4.81</td>\n",
       "      <td>365.0</td>\n",
       "    </tr>\n",
       "    <tr>\n",
       "      <th>427</th>\n",
       "      <td>The Box House Hotel</td>\n",
       "      <td>Entire home/apt</td>\n",
       "      <td>1.0</td>\n",
       "      <td>2.0</td>\n",
       "      <td>t</td>\n",
       "      <td>124</td>\n",
       "      <td>4.83</td>\n",
       "      <td>365.0</td>\n",
       "    </tr>\n",
       "    <tr>\n",
       "      <th>429</th>\n",
       "      <td>The Box House Hotel</td>\n",
       "      <td>Entire home/apt</td>\n",
       "      <td>1.0</td>\n",
       "      <td>2.0</td>\n",
       "      <td>t</td>\n",
       "      <td>124</td>\n",
       "      <td>4.81</td>\n",
       "      <td>365.0</td>\n",
       "    </tr>\n",
       "    <tr>\n",
       "      <th>433</th>\n",
       "      <td>The Box House Hotel</td>\n",
       "      <td>Entire home/apt</td>\n",
       "      <td>1.0</td>\n",
       "      <td>2.0</td>\n",
       "      <td>t</td>\n",
       "      <td>124</td>\n",
       "      <td>4.81</td>\n",
       "      <td>365.0</td>\n",
       "    </tr>\n",
       "    <tr>\n",
       "      <th>438</th>\n",
       "      <td>The Box House Hotel</td>\n",
       "      <td>Entire home/apt</td>\n",
       "      <td>1.0</td>\n",
       "      <td>2.0</td>\n",
       "      <td>t</td>\n",
       "      <td>124</td>\n",
       "      <td>4.90</td>\n",
       "      <td>365.0</td>\n",
       "    </tr>\n",
       "    <tr>\n",
       "      <th>...</th>\n",
       "      <td>...</td>\n",
       "      <td>...</td>\n",
       "      <td>...</td>\n",
       "      <td>...</td>\n",
       "      <td>...</td>\n",
       "      <td>...</td>\n",
       "      <td>...</td>\n",
       "      <td>...</td>\n",
       "    </tr>\n",
       "    <tr>\n",
       "      <th>43527</th>\n",
       "      <td>Kristina</td>\n",
       "      <td>Private room</td>\n",
       "      <td>1.0</td>\n",
       "      <td>1.0</td>\n",
       "      <td>t</td>\n",
       "      <td>364</td>\n",
       "      <td>0.00</td>\n",
       "      <td>46.0</td>\n",
       "    </tr>\n",
       "    <tr>\n",
       "      <th>43529</th>\n",
       "      <td>Kristina</td>\n",
       "      <td>Private room</td>\n",
       "      <td>1.0</td>\n",
       "      <td>1.0</td>\n",
       "      <td>t</td>\n",
       "      <td>364</td>\n",
       "      <td>0.00</td>\n",
       "      <td>46.0</td>\n",
       "    </tr>\n",
       "    <tr>\n",
       "      <th>43534</th>\n",
       "      <td>Kristina</td>\n",
       "      <td>Private room</td>\n",
       "      <td>1.0</td>\n",
       "      <td>1.0</td>\n",
       "      <td>t</td>\n",
       "      <td>364</td>\n",
       "      <td>0.00</td>\n",
       "      <td>46.0</td>\n",
       "    </tr>\n",
       "    <tr>\n",
       "      <th>43559</th>\n",
       "      <td>CrossOver</td>\n",
       "      <td>Entire home/apt</td>\n",
       "      <td>4.0</td>\n",
       "      <td>4.0</td>\n",
       "      <td>t</td>\n",
       "      <td>364</td>\n",
       "      <td>0.00</td>\n",
       "      <td>435.0</td>\n",
       "    </tr>\n",
       "    <tr>\n",
       "      <th>43562</th>\n",
       "      <td>RoomPicks By Antony</td>\n",
       "      <td>Private room</td>\n",
       "      <td>1.0</td>\n",
       "      <td>1.0</td>\n",
       "      <td>t</td>\n",
       "      <td>250</td>\n",
       "      <td>0.00</td>\n",
       "      <td>662.0</td>\n",
       "    </tr>\n",
       "  </tbody>\n",
       "</table>\n",
       "<p>956 rows × 8 columns</p>\n",
       "</div>"
      ],
      "text/plain": [
       "                 host_name        room_type  bedrooms  beds has_availability  \\\n",
       "406    The Box House Hotel  Entire home/apt       1.0   2.0                t   \n",
       "427    The Box House Hotel  Entire home/apt       1.0   2.0                t   \n",
       "429    The Box House Hotel  Entire home/apt       1.0   2.0                t   \n",
       "433    The Box House Hotel  Entire home/apt       1.0   2.0                t   \n",
       "438    The Box House Hotel  Entire home/apt       1.0   2.0                t   \n",
       "...                    ...              ...       ...   ...              ...   \n",
       "43527             Kristina     Private room       1.0   1.0                t   \n",
       "43529             Kristina     Private room       1.0   1.0                t   \n",
       "43534             Kristina     Private room       1.0   1.0                t   \n",
       "43559            CrossOver  Entire home/apt       4.0   4.0                t   \n",
       "43562  RoomPicks By Antony     Private room       1.0   1.0                t   \n",
       "\n",
       "       availability_365  review_scores_rating  price  \n",
       "406                 124                  4.81  365.0  \n",
       "427                 124                  4.83  365.0  \n",
       "429                 124                  4.81  365.0  \n",
       "433                 124                  4.81  365.0  \n",
       "438                 124                  4.90  365.0  \n",
       "...                 ...                   ...    ...  \n",
       "43527               364                  0.00   46.0  \n",
       "43529               364                  0.00   46.0  \n",
       "43534               364                  0.00   46.0  \n",
       "43559               364                  0.00  435.0  \n",
       "43562               250                  0.00  662.0  \n",
       "\n",
       "[956 rows x 8 columns]"
      ]
     },
     "execution_count": 147,
     "metadata": {},
     "output_type": "execute_result"
    }
   ],
   "source": [
    "df2[df2.duplicated()]\n"
   ]
  },
  {
   "cell_type": "markdown",
   "metadata": {},
   "source": [
    "# I didn't remove duplicate rows because they may indicate how many times booking\n"
   ]
  },
  {
   "cell_type": "code",
   "execution_count": 148,
   "metadata": {},
   "outputs": [
    {
     "data": {
      "text/plain": [
       "Blueground     569\n",
       "RoomPicks      506\n",
       "Eugene         491\n",
       "June           421\n",
       "Michael        348\n",
       "              ... \n",
       "Kreshnik         1\n",
       "Lotte Elisa      1\n",
       "Oof              1\n",
       "Hamad            1\n",
       "Moayed           1\n",
       "Name: host_name, Length: 9675, dtype: int64"
      ]
     },
     "execution_count": 148,
     "metadata": {},
     "output_type": "execute_result"
    }
   ],
   "source": [
    "df2['host_name'].value_counts()\n"
   ]
  },
  {
   "cell_type": "code",
   "execution_count": null,
   "metadata": {},
   "outputs": [],
   "source": []
  },
  {
   "cell_type": "markdown",
   "metadata": {},
   "source": [
    "# 3-Identifying Trends and Patterns:\n"
   ]
  },
  {
   "cell_type": "code",
   "execution_count": 149,
   "metadata": {},
   "outputs": [
    {
     "data": {
      "text/html": [
       "<div>\n",
       "<style scoped>\n",
       "    .dataframe tbody tr th:only-of-type {\n",
       "        vertical-align: middle;\n",
       "    }\n",
       "\n",
       "    .dataframe tbody tr th {\n",
       "        vertical-align: top;\n",
       "    }\n",
       "\n",
       "    .dataframe thead th {\n",
       "        text-align: right;\n",
       "    }\n",
       "</style>\n",
       "<table border=\"1\" class=\"dataframe\">\n",
       "  <thead>\n",
       "    <tr style=\"text-align: right;\">\n",
       "      <th></th>\n",
       "      <th>host_name</th>\n",
       "      <th>room_type</th>\n",
       "      <th>bedrooms</th>\n",
       "      <th>beds</th>\n",
       "      <th>has_availability</th>\n",
       "      <th>availability_365</th>\n",
       "      <th>review_scores_rating</th>\n",
       "      <th>price</th>\n",
       "    </tr>\n",
       "  </thead>\n",
       "  <tbody>\n",
       "    <tr>\n",
       "      <th>0</th>\n",
       "      <td>Jennifer</td>\n",
       "      <td>Entire home/apt</td>\n",
       "      <td>0.0</td>\n",
       "      <td>1.0</td>\n",
       "      <td>t</td>\n",
       "      <td>325</td>\n",
       "      <td>4.68</td>\n",
       "      <td>240.0</td>\n",
       "    </tr>\n",
       "    <tr>\n",
       "      <th>1</th>\n",
       "      <td>Garon</td>\n",
       "      <td>Private room</td>\n",
       "      <td>0.0</td>\n",
       "      <td>1.0</td>\n",
       "      <td>t</td>\n",
       "      <td>0</td>\n",
       "      <td>4.52</td>\n",
       "      <td>60.0</td>\n",
       "    </tr>\n",
       "    <tr>\n",
       "      <th>2</th>\n",
       "      <td>Bianca</td>\n",
       "      <td>Private room</td>\n",
       "      <td>0.0</td>\n",
       "      <td>1.0</td>\n",
       "      <td>t</td>\n",
       "      <td>268</td>\n",
       "      <td>4.93</td>\n",
       "      <td>120.0</td>\n",
       "    </tr>\n",
       "    <tr>\n",
       "      <th>3</th>\n",
       "      <td>Rebecca</td>\n",
       "      <td>Entire home/apt</td>\n",
       "      <td>2.0</td>\n",
       "      <td>2.0</td>\n",
       "      <td>t</td>\n",
       "      <td>275</td>\n",
       "      <td>5.00</td>\n",
       "      <td>276.0</td>\n",
       "    </tr>\n",
       "    <tr>\n",
       "      <th>4</th>\n",
       "      <td>Ted</td>\n",
       "      <td>Entire home/apt</td>\n",
       "      <td>1.0</td>\n",
       "      <td>2.0</td>\n",
       "      <td>t</td>\n",
       "      <td>160</td>\n",
       "      <td>4.56</td>\n",
       "      <td>315.0</td>\n",
       "    </tr>\n",
       "  </tbody>\n",
       "</table>\n",
       "</div>"
      ],
      "text/plain": [
       "  host_name        room_type  bedrooms  beds has_availability  \\\n",
       "0  Jennifer  Entire home/apt       0.0   1.0                t   \n",
       "1     Garon     Private room       0.0   1.0                t   \n",
       "2    Bianca     Private room       0.0   1.0                t   \n",
       "3   Rebecca  Entire home/apt       2.0   2.0                t   \n",
       "4       Ted  Entire home/apt       1.0   2.0                t   \n",
       "\n",
       "   availability_365  review_scores_rating  price  \n",
       "0               325                  4.68  240.0  \n",
       "1                 0                  4.52   60.0  \n",
       "2               268                  4.93  120.0  \n",
       "3               275                  5.00  276.0  \n",
       "4               160                  4.56  315.0  "
      ]
     },
     "execution_count": 149,
     "metadata": {},
     "output_type": "execute_result"
    }
   ],
   "source": [
    "df2.head()\n"
   ]
  },
  {
   "cell_type": "code",
   "execution_count": 150,
   "metadata": {},
   "outputs": [
    {
     "data": {
      "text/html": [
       "<div>\n",
       "<style scoped>\n",
       "    .dataframe tbody tr th:only-of-type {\n",
       "        vertical-align: middle;\n",
       "    }\n",
       "\n",
       "    .dataframe tbody tr th {\n",
       "        vertical-align: top;\n",
       "    }\n",
       "\n",
       "    .dataframe thead th {\n",
       "        text-align: right;\n",
       "    }\n",
       "</style>\n",
       "<table border=\"1\" class=\"dataframe\">\n",
       "  <thead>\n",
       "    <tr style=\"text-align: right;\">\n",
       "      <th></th>\n",
       "      <th>count</th>\n",
       "      <th>mean</th>\n",
       "      <th>std</th>\n",
       "      <th>min</th>\n",
       "      <th>25%</th>\n",
       "      <th>50%</th>\n",
       "      <th>75%</th>\n",
       "      <th>max</th>\n",
       "    </tr>\n",
       "  </thead>\n",
       "  <tbody>\n",
       "    <tr>\n",
       "      <th>bedrooms</th>\n",
       "      <td>42760.0</td>\n",
       "      <td>0.925561</td>\n",
       "      <td>1.056797</td>\n",
       "      <td>0.0</td>\n",
       "      <td>0.0</td>\n",
       "      <td>1.00</td>\n",
       "      <td>1.00</td>\n",
       "      <td>26.0</td>\n",
       "    </tr>\n",
       "    <tr>\n",
       "      <th>beds</th>\n",
       "      <td>42760.0</td>\n",
       "      <td>1.659121</td>\n",
       "      <td>1.173399</td>\n",
       "      <td>1.0</td>\n",
       "      <td>1.0</td>\n",
       "      <td>1.00</td>\n",
       "      <td>2.00</td>\n",
       "      <td>42.0</td>\n",
       "    </tr>\n",
       "    <tr>\n",
       "      <th>availability_365</th>\n",
       "      <td>42760.0</td>\n",
       "      <td>137.280566</td>\n",
       "      <td>137.250987</td>\n",
       "      <td>0.0</td>\n",
       "      <td>0.0</td>\n",
       "      <td>89.00</td>\n",
       "      <td>278.00</td>\n",
       "      <td>365.0</td>\n",
       "    </tr>\n",
       "    <tr>\n",
       "      <th>review_scores_rating</th>\n",
       "      <td>42760.0</td>\n",
       "      <td>3.529638</td>\n",
       "      <td>2.072405</td>\n",
       "      <td>0.0</td>\n",
       "      <td>1.0</td>\n",
       "      <td>4.71</td>\n",
       "      <td>4.95</td>\n",
       "      <td>5.0</td>\n",
       "    </tr>\n",
       "    <tr>\n",
       "      <th>price</th>\n",
       "      <td>42760.0</td>\n",
       "      <td>225.801146</td>\n",
       "      <td>824.185898</td>\n",
       "      <td>10.0</td>\n",
       "      <td>80.0</td>\n",
       "      <td>138.00</td>\n",
       "      <td>229.00</td>\n",
       "      <td>90120.0</td>\n",
       "    </tr>\n",
       "  </tbody>\n",
       "</table>\n",
       "</div>"
      ],
      "text/plain": [
       "                        count        mean         std   min   25%     50%  \\\n",
       "bedrooms              42760.0    0.925561    1.056797   0.0   0.0    1.00   \n",
       "beds                  42760.0    1.659121    1.173399   1.0   1.0    1.00   \n",
       "availability_365      42760.0  137.280566  137.250987   0.0   0.0   89.00   \n",
       "review_scores_rating  42760.0    3.529638    2.072405   0.0   1.0    4.71   \n",
       "price                 42760.0  225.801146  824.185898  10.0  80.0  138.00   \n",
       "\n",
       "                         75%      max  \n",
       "bedrooms                1.00     26.0  \n",
       "beds                    2.00     42.0  \n",
       "availability_365      278.00    365.0  \n",
       "review_scores_rating    4.95      5.0  \n",
       "price                 229.00  90120.0  "
      ]
     },
     "execution_count": 150,
     "metadata": {},
     "output_type": "execute_result"
    }
   ],
   "source": [
    "df2.describe().transpose()\n"
   ]
  },
  {
   "cell_type": "markdown",
   "metadata": {},
   "source": [
    "1. **Bedrooms and Beds:**\n",
    "\n",
    "   - The dataset appears to include listings with varying numbers of bedrooms and beds.\n",
    "   - On average, listings have approximately 0.93 bedrooms and 1.66 beds.\n",
    "   - The median (50th percentile) values for both bedrooms and beds are 1, which means that most listings likely offer at least one bedroom and bed.\n",
    "   - The maximum number of bedrooms is 26, and the maximum number of beds is 42, which could suggest that some listings might be quite spacious or accommodate large groups.\n",
    "\n",
    "2. **Availability:**\n",
    "\n",
    "   - The availability variable likely represents the number of days a listing is available for booking in a year.\n",
    "   - On average, listings are available for around 137 days out of 365.\n",
    "   - The 25th percentile value is 0, which means that a significant portion of listings might have very limited availability, possibly due to being booked most of the time.\n",
    "   - The median value of 89 suggests that half of the listings are available for approximately one-fourth of the year or less.\n",
    "\n",
    "3. **Review Scores Rating:**\n",
    "\n",
    "   - The review scores rating seems to be scaled between 0 and 5, with a median value of 4.71 and a mean value of 3.53.\n",
    "   - A significant portion of the ratings are above 4.71, indicating that many listings have received relatively positive reviews.\n",
    "   - However, the low minimum value of 0 suggests that there are listings with extremely poor ratings as well.\n",
    "   - The relatively high standard deviation (2.07) indicates that there is considerable variability in the review scores, with some listings receiving much lower scores than others.\n",
    "\n",
    "4. **Price:**\n",
    "   - The price variable indicates the cost of renting the accommodation.\n",
    "   - The mean price is $217.89, while the median price is $138.00.\n",
    "   - The prices range from $10.00 to $10,000.00, suggesting a wide variability in pricing.\n",
    "   - The 25th percentile value of $80.00 is notably lower than the mean and median prices, indicating that a significant portion of listings might be relatively affordable.\n"
   ]
  },
  {
   "cell_type": "code",
   "execution_count": 151,
   "metadata": {},
   "outputs": [
    {
     "data": {
      "text/plain": [
       "Blueground     569\n",
       "RoomPicks      506\n",
       "Eugene         491\n",
       "June           421\n",
       "Michael        348\n",
       "              ... \n",
       "Kreshnik         1\n",
       "Lotte Elisa      1\n",
       "Oof              1\n",
       "Hamad            1\n",
       "Moayed           1\n",
       "Name: host_name, Length: 9675, dtype: int64"
      ]
     },
     "execution_count": 151,
     "metadata": {},
     "output_type": "execute_result"
    }
   ],
   "source": [
    "df2['host_name'].value_counts()\n"
   ]
  },
  {
   "cell_type": "code",
   "execution_count": 152,
   "metadata": {},
   "outputs": [
    {
     "name": "stderr",
     "output_type": "stream",
     "text": [
      "C:\\Users\\xobed\\AppData\\Local\\Temp\\ipykernel_12376\\1690049896.py:1: SettingWithCopyWarning: \n",
      "A value is trying to be set on a copy of a slice from a DataFrame\n",
      "\n",
      "See the caveats in the documentation: https://pandas.pydata.org/pandas-docs/stable/user_guide/indexing.html#returning-a-view-versus-a-copy\n",
      "  df2.drop('host_name' , axis=1 , inplace=True)\n"
     ]
    }
   ],
   "source": [
    "df2.drop('host_name', axis=1, inplace=True)\n"
   ]
  },
  {
   "cell_type": "code",
   "execution_count": 153,
   "metadata": {},
   "outputs": [],
   "source": [
    "# sns.countplot(data = df2 , x='host_name')\n"
   ]
  },
  {
   "cell_type": "code",
   "execution_count": 154,
   "metadata": {},
   "outputs": [
    {
     "data": {
      "text/plain": [
       "Entire home/apt    0.568896\n",
       "Private room       0.414920\n",
       "Shared room        0.013026\n",
       "Hotel room         0.003157\n",
       "Name: room_type, dtype: float64"
      ]
     },
     "execution_count": 154,
     "metadata": {},
     "output_type": "execute_result"
    }
   ],
   "source": [
    "df2['room_type'].value_counts(normalize=True)\n"
   ]
  },
  {
   "cell_type": "markdown",
   "metadata": {},
   "source": [
    "- The majority of listings fall into the \"Entire home/apt\" and \"Private room\" categories.\n",
    "  - \"Entire home/apt\" listings are the most common, accounting for around 57% of all listings.\n",
    "  - \"Private room\" listings make up approximately 42% of the dataset.\n",
    "  - \"Shared room\" and \"Hotel room\" listings are much less common, with \"Shared room\" accounting for a small percentage (around 1.3%) and \"Hotel room\" being even rarer (around 0.3%).\n"
   ]
  },
  {
   "cell_type": "code",
   "execution_count": 155,
   "metadata": {},
   "outputs": [
    {
     "data": {
      "text/plain": [
       "<Axes: xlabel='room_type', ylabel='count'>"
      ]
     },
     "execution_count": 155,
     "metadata": {},
     "output_type": "execute_result"
    },
    {
     "data": {
      "image/png": "[encoded data removed]",
      "text/plain": [
       "<Figure size 640x480 with 1 Axes>"
      ]
     },
     "metadata": {},
     "output_type": "display_data"
    }
   ],
   "source": [
    "sns.countplot(data=df2, x='room_type', hue='has_availability', )\n"
   ]
  },
  {
   "cell_type": "markdown",
   "metadata": {},
   "source": [
    "# From this chart we conclude:\n",
    "\n",
    "1. **Accommodation Type Distribution:**\n",
    "\n",
    "   - The majority of listings fall into the \"Entire home/apt\" and \"Private room\" categories.\n",
    "   - \"Entire home/apt\" listings are the most common, accounting for around 57% of all listings.\n",
    "   - \"Private room\" listings make up approximately 42% of the dataset.\n",
    "   - \"Shared room\" and \"Hotel room\" listings are much less common, with \"Shared room\" accounting for a small percentage (around 1.3%) and \"Hotel room\" being even rarer (around 0.3%).\n",
    "\n",
    "2. **Diverse Preferences:**\n",
    "   - The variety of accommodation types suggests that the platform caters to a diverse range of travelers with different preferences and budgets.\n",
    "   - Some users might prioritize having an entire space to themselves, while others might be comfortable with a private room within a larger property.\n",
    "3. **The available rooms higher than nonavailable deoring the year**\n"
   ]
  },
  {
   "cell_type": "code",
   "execution_count": 156,
   "metadata": {},
   "outputs": [],
   "source": [
    "# df2['bedrooms'].value_counts()\n"
   ]
  },
  {
   "cell_type": "code",
   "execution_count": 157,
   "metadata": {},
   "outputs": [],
   "source": [
    "# df2['has_availability'].value_counts(normalize=True)\n"
   ]
  },
  {
   "cell_type": "code",
   "execution_count": null,
   "metadata": {},
   "outputs": [],
   "source": []
  },
  {
   "cell_type": "code",
   "execution_count": 158,
   "metadata": {},
   "outputs": [
    {
     "data": {
      "text/plain": [
       "<Axes: xlabel='price'>"
      ]
     },
     "execution_count": 158,
     "metadata": {},
     "output_type": "execute_result"
    },
    {
     "data": {
      "image/png": "[encoded data removed]",
      "text/plain": [
       "<Figure size 640x480 with 1 Axes>"
      ]
     },
     "metadata": {},
     "output_type": "display_data"
    }
   ],
   "source": [
    "sns.boxplot(data=df2, x='price')\n"
   ]
  },
  {
   "cell_type": "code",
   "execution_count": 159,
   "metadata": {},
   "outputs": [
    {
     "data": {
      "text/plain": [
       "<Axes: xlabel='price', ylabel='Count'>"
      ]
     },
     "execution_count": 159,
     "metadata": {},
     "output_type": "execute_result"
    },
    {
     "data": {
      "image/png": "[encoded data removed]",
      "text/plain": [
       "<Figure size 640x480 with 1 Axes>"
      ]
     },
     "metadata": {},
     "output_type": "display_data"
    }
   ],
   "source": [
    "sns.histplot(data=df2, x='price', kde=True)\n"
   ]
  },
  {
   "cell_type": "code",
   "execution_count": 178,
   "metadata": {},
   "outputs": [
    {
     "data": {
      "text/plain": [
       "count    42760.000000\n",
       "mean       225.801146\n",
       "std        824.185898\n",
       "min         10.000000\n",
       "25%         80.000000\n",
       "50%        138.000000\n",
       "75%        229.000000\n",
       "max      90120.000000\n",
       "Name: price, dtype: float64"
      ]
     },
     "execution_count": 178,
     "metadata": {},
     "output_type": "execute_result"
    }
   ],
   "source": [
    "df2['price'].describe()\n"
   ]
  },
  {
   "cell_type": "code",
   "execution_count": 180,
   "metadata": {},
   "outputs": [
    {
     "data": {
      "text/plain": [
       "138.0"
      ]
     },
     "execution_count": 180,
     "metadata": {},
     "output_type": "execute_result"
    }
   ],
   "source": [
    "# Right Skew data (less influenced by extreme values than the mean.)\n",
    "df2['price'].median()\n"
   ]
  },
  {
   "cell_type": "markdown",
   "metadata": {},
   "source": [
    "# From 2 charts we conclude:\n",
    "\n",
    "**Price Statistics Insights:**\n",
    "\n",
    "1. **Mean and Median:** The mean price is significantly higher than the median price. This suggests that the distribution of prices is positively skewed, with some extremely high values pulling the mean upwards so we use the median\n",
    "\n",
    "2. **Standard Deviation:** The high standard deviation indicates a wide variability in prices. The prices span a broad range, suggesting that there might be listings with unusually high prices compared to the majority.\n",
    "\n",
    "3. **Minimum and Maximum Prices:** The minimum price is $10, and the maximum price is $90,120. The presence of such a wide range of prices indicates the existence of high-end listings with luxury accommodations.\n",
    "\n",
    "4. **Percentiles (Quartiles):** The quartile values provide a clearer picture of the price distribution. The interquartile range (IQR) is relatively narrow, indicating that the middle 50% of prices are relatively close together.\n"
   ]
  },
  {
   "cell_type": "markdown",
   "metadata": {},
   "source": [
    "- We don't remove outliers because outliers can significantly affect the overall distribution and statistical measures like the mean and standard deviation. If outliers are removed, the analysis will be based on a modified dataset that might not accurately represent the actual variability of prices and we don't use ML model\n"
   ]
  },
  {
   "cell_type": "code",
   "execution_count": 161,
   "metadata": {},
   "outputs": [],
   "source": [
    "# df2[df2['price'] > 40000].index\n"
   ]
  },
  {
   "cell_type": "code",
   "execution_count": 162,
   "metadata": {},
   "outputs": [],
   "source": [
    "# df2.drop([2571, 9201, 22276, 31931], axis=0, inplace=True)\n"
   ]
  },
  {
   "cell_type": "code",
   "execution_count": 163,
   "metadata": {},
   "outputs": [],
   "source": [
    "# sns.boxplot(data=df2, x='price')\n"
   ]
  },
  {
   "cell_type": "code",
   "execution_count": 164,
   "metadata": {},
   "outputs": [],
   "source": [
    "# df2[df2['price'] > 10000].index\n"
   ]
  },
  {
   "cell_type": "code",
   "execution_count": 165,
   "metadata": {},
   "outputs": [],
   "source": [
    "# df2.drop([9614, 29977, 31811], axis=0, inplace=True)\n"
   ]
  },
  {
   "cell_type": "code",
   "execution_count": 166,
   "metadata": {},
   "outputs": [],
   "source": [
    "# sns.boxplot(data=df2, x='price')\n"
   ]
  },
  {
   "cell_type": "code",
   "execution_count": 170,
   "metadata": {},
   "outputs": [
    {
     "data": {
      "text/html": [
       "<div>\n",
       "<style scoped>\n",
       "    .dataframe tbody tr th:only-of-type {\n",
       "        vertical-align: middle;\n",
       "    }\n",
       "\n",
       "    .dataframe tbody tr th {\n",
       "        vertical-align: top;\n",
       "    }\n",
       "\n",
       "    .dataframe thead th {\n",
       "        text-align: right;\n",
       "    }\n",
       "</style>\n",
       "<table border=\"1\" class=\"dataframe\">\n",
       "  <thead>\n",
       "    <tr style=\"text-align: right;\">\n",
       "      <th></th>\n",
       "      <th>room_type</th>\n",
       "      <th>bedrooms</th>\n",
       "      <th>beds</th>\n",
       "      <th>has_availability</th>\n",
       "      <th>availability_365</th>\n",
       "      <th>review_scores_rating</th>\n",
       "      <th>price</th>\n",
       "    </tr>\n",
       "  </thead>\n",
       "  <tbody>\n",
       "    <tr>\n",
       "      <th>0</th>\n",
       "      <td>Entire home/apt</td>\n",
       "      <td>0.0</td>\n",
       "      <td>1.0</td>\n",
       "      <td>t</td>\n",
       "      <td>325</td>\n",
       "      <td>4.68</td>\n",
       "      <td>240.0</td>\n",
       "    </tr>\n",
       "    <tr>\n",
       "      <th>1</th>\n",
       "      <td>Private room</td>\n",
       "      <td>0.0</td>\n",
       "      <td>1.0</td>\n",
       "      <td>t</td>\n",
       "      <td>0</td>\n",
       "      <td>4.52</td>\n",
       "      <td>60.0</td>\n",
       "    </tr>\n",
       "    <tr>\n",
       "      <th>2</th>\n",
       "      <td>Private room</td>\n",
       "      <td>0.0</td>\n",
       "      <td>1.0</td>\n",
       "      <td>t</td>\n",
       "      <td>268</td>\n",
       "      <td>4.93</td>\n",
       "      <td>120.0</td>\n",
       "    </tr>\n",
       "    <tr>\n",
       "      <th>3</th>\n",
       "      <td>Entire home/apt</td>\n",
       "      <td>2.0</td>\n",
       "      <td>2.0</td>\n",
       "      <td>t</td>\n",
       "      <td>275</td>\n",
       "      <td>5.00</td>\n",
       "      <td>276.0</td>\n",
       "    </tr>\n",
       "    <tr>\n",
       "      <th>4</th>\n",
       "      <td>Entire home/apt</td>\n",
       "      <td>1.0</td>\n",
       "      <td>2.0</td>\n",
       "      <td>t</td>\n",
       "      <td>160</td>\n",
       "      <td>4.56</td>\n",
       "      <td>315.0</td>\n",
       "    </tr>\n",
       "    <tr>\n",
       "      <th>...</th>\n",
       "      <td>...</td>\n",
       "      <td>...</td>\n",
       "      <td>...</td>\n",
       "      <td>...</td>\n",
       "      <td>...</td>\n",
       "      <td>...</td>\n",
       "      <td>...</td>\n",
       "    </tr>\n",
       "    <tr>\n",
       "      <th>43561</th>\n",
       "      <td>Entire home/apt</td>\n",
       "      <td>4.0</td>\n",
       "      <td>4.0</td>\n",
       "      <td>t</td>\n",
       "      <td>364</td>\n",
       "      <td>0.00</td>\n",
       "      <td>350.0</td>\n",
       "    </tr>\n",
       "    <tr>\n",
       "      <th>43562</th>\n",
       "      <td>Private room</td>\n",
       "      <td>1.0</td>\n",
       "      <td>1.0</td>\n",
       "      <td>t</td>\n",
       "      <td>250</td>\n",
       "      <td>0.00</td>\n",
       "      <td>662.0</td>\n",
       "    </tr>\n",
       "    <tr>\n",
       "      <th>43563</th>\n",
       "      <td>Entire home/apt</td>\n",
       "      <td>4.0</td>\n",
       "      <td>4.0</td>\n",
       "      <td>t</td>\n",
       "      <td>364</td>\n",
       "      <td>0.00</td>\n",
       "      <td>387.0</td>\n",
       "    </tr>\n",
       "    <tr>\n",
       "      <th>43564</th>\n",
       "      <td>Private room</td>\n",
       "      <td>1.0</td>\n",
       "      <td>1.0</td>\n",
       "      <td>f</td>\n",
       "      <td>8</td>\n",
       "      <td>0.00</td>\n",
       "      <td>51.0</td>\n",
       "    </tr>\n",
       "    <tr>\n",
       "      <th>43565</th>\n",
       "      <td>Entire home/apt</td>\n",
       "      <td>1.0</td>\n",
       "      <td>1.0</td>\n",
       "      <td>t</td>\n",
       "      <td>102</td>\n",
       "      <td>0.00</td>\n",
       "      <td>750.0</td>\n",
       "    </tr>\n",
       "  </tbody>\n",
       "</table>\n",
       "<p>42760 rows × 7 columns</p>\n",
       "</div>"
      ],
      "text/plain": [
       "             room_type  bedrooms  beds has_availability  availability_365  \\\n",
       "0      Entire home/apt       0.0   1.0                t               325   \n",
       "1         Private room       0.0   1.0                t                 0   \n",
       "2         Private room       0.0   1.0                t               268   \n",
       "3      Entire home/apt       2.0   2.0                t               275   \n",
       "4      Entire home/apt       1.0   2.0                t               160   \n",
       "...                ...       ...   ...              ...               ...   \n",
       "43561  Entire home/apt       4.0   4.0                t               364   \n",
       "43562     Private room       1.0   1.0                t               250   \n",
       "43563  Entire home/apt       4.0   4.0                t               364   \n",
       "43564     Private room       1.0   1.0                f                 8   \n",
       "43565  Entire home/apt       1.0   1.0                t               102   \n",
       "\n",
       "       review_scores_rating  price  \n",
       "0                      4.68  240.0  \n",
       "1                      4.52   60.0  \n",
       "2                      4.93  120.0  \n",
       "3                      5.00  276.0  \n",
       "4                      4.56  315.0  \n",
       "...                     ...    ...  \n",
       "43561                  0.00  350.0  \n",
       "43562                  0.00  662.0  \n",
       "43563                  0.00  387.0  \n",
       "43564                  0.00   51.0  \n",
       "43565                  0.00  750.0  \n",
       "\n",
       "[42760 rows x 7 columns]"
      ]
     },
     "execution_count": 170,
     "metadata": {},
     "output_type": "execute_result"
    }
   ],
   "source": [
    "df2\n"
   ]
  },
  {
   "cell_type": "code",
   "execution_count": 171,
   "metadata": {},
   "outputs": [
    {
     "data": {
      "text/plain": [
       "<Axes: xlabel='room_type', ylabel='price'>"
      ]
     },
     "execution_count": 171,
     "metadata": {},
     "output_type": "execute_result"
    },
    {
     "data": {
      "image/png": "[encoded data removed]",
      "text/plain": [
       "<Figure size 640x480 with 1 Axes>"
      ]
     },
     "metadata": {},
     "output_type": "display_data"
    }
   ],
   "source": [
    "sns.barplot(data=df2, y='price', x='room_type')\n"
   ]
  },
  {
   "cell_type": "markdown",
   "metadata": {},
   "source": [
    "# From this chart we conclude:\n",
    "\n",
    "**The hotel room price is higher than other rooms**\n"
   ]
  },
  {
   "cell_type": "code",
   "execution_count": 172,
   "metadata": {},
   "outputs": [
    {
     "data": {
      "text/plain": [
       "<Axes: xlabel='room_type', ylabel='price'>"
      ]
     },
     "execution_count": 172,
     "metadata": {},
     "output_type": "execute_result"
    },
    {
     "data": {
      "image/png": "[encoded data removed]",
      "text/plain": [
       "<Figure size 640x480 with 1 Axes>"
      ]
     },
     "metadata": {},
     "output_type": "display_data"
    }
   ],
   "source": [
    "sns.barplot(data=df2, y='price', x='room_type', hue='has_availability')\n"
   ]
  },
  {
   "cell_type": "markdown",
   "metadata": {},
   "source": [
    "# From this chart we conclude:\n",
    "\n",
    "**The hotel room price is higher than other rooms and more available than other rooms**\n"
   ]
  },
  {
   "cell_type": "code",
   "execution_count": 173,
   "metadata": {},
   "outputs": [
    {
     "data": {
      "text/plain": [
       "<seaborn.axisgrid.PairGrid at 0x1aabba22920>"
      ]
     },
     "execution_count": 173,
     "metadata": {},
     "output_type": "execute_result"
    },
    {
     "data": {
      "image/png": "[encoded data removed]",
      "text/plain": [
       "<Figure size 1250x1250 with 30 Axes>"
      ]
     },
     "metadata": {},
     "output_type": "display_data"
    }
   ],
   "source": [
    "sns.pairplot(data=df2)\n"
   ]
  },
  {
   "cell_type": "markdown",
   "metadata": {},
   "source": [
    "A pair plot, also known as a scatterplot matrix, is a powerful visualization that allows you to explore the relationships between multiple pairs of variables in a dataset. Each plot in the matrix represents the relationship between two variables, and when combined, they provide a comprehensive view of how variables interact. Here are insights, benefits, and useful information about each type of plot in a pair plot:\n",
    "\n",
    "**1. Scatter Plots (Variable vs. Variable):**\n",
    "\n",
    "- **Insights:** Scatter plots show the relationship between two continuous variables. You can observe how changes in one variable correspond to changes in the other.\n",
    "- **Benefits:**\n",
    "  - Identify Trends: Scatter plots help identify trends, patterns, and correlations between variables.\n",
    "  - Outlier Detection: Outliers, if present, are easily recognizable as data points that deviate from the general trend.\n",
    "  - Correlation Assessment: The scatter pattern can give an idea of the strength and direction of correlation between variables.\n",
    "\n",
    "**2. Histograms (Variable Distribution):**\n",
    "\n",
    "- **Insights:** Histograms show the distribution of individual variables. They indicate the frequency of values within specific ranges.\n",
    "- **Benefits:**\n",
    "  - Distribution Shape: Histograms reveal whether a variable is normally distributed, skewed, bimodal, etc.\n",
    "  - Central Tendency: You can see where the majority of values are concentrated (peak of the histogram).\n",
    "  - Spread: The width of the histogram can provide insights into the variability of the data.\n"
   ]
  },
  {
   "cell_type": "code",
   "execution_count": 174,
   "metadata": {},
   "outputs": [
    {
     "name": "stderr",
     "output_type": "stream",
     "text": [
      "C:\\Users\\xobed\\AppData\\Local\\Temp\\ipykernel_12376\\361934565.py:1: FutureWarning: The default value of numeric_only in DataFrame.corr is deprecated. In a future version, it will default to False. Select only valid columns or specify the value of numeric_only to silence this warning.\n",
      "  df2.corr()['price']\n"
     ]
    },
    {
     "data": {
      "text/plain": [
       "bedrooms                0.133773\n",
       "beds                    0.141461\n",
       "availability_365        0.048758\n",
       "review_scores_rating   -0.054177\n",
       "price                   1.000000\n",
       "Name: price, dtype: float64"
      ]
     },
     "execution_count": 174,
     "metadata": {},
     "output_type": "execute_result"
    }
   ],
   "source": [
    "df2.corr()['price']\n"
   ]
  },
  {
   "cell_type": "markdown",
   "metadata": {},
   "source": [
    "1. **Bedrooms and Beds:** Both the \"bedrooms\" and \"beds\" variables have positive correlations with the \"price\" variable (0.275764 and 0.274340, respectively). This suggests that listings with more bedrooms and beds tend to have higher prices.\n",
    "\n",
    "2. **Availability:** The \"availability_365\" variable has a positive correlation with \"price\" (0.089042). This suggests that listings with higher availability throughout the year tend to have slightly higher prices. However, the correlation is not very strong.\n",
    "\n",
    "3. **Review Scores Rating:** The \"review_scores_rating\" variable has a negative correlation with \"price\" (-0.110308). This implies that, on average, listings with higher review scores tend to have slightly lower prices. This relationship might be due to hosts offering more competitive prices to attract guests when their properties have higher ratings.\n"
   ]
  },
  {
   "cell_type": "code",
   "execution_count": 175,
   "metadata": {},
   "outputs": [
    {
     "data": {
      "text/html": [
       "<div>\n",
       "<style scoped>\n",
       "    .dataframe tbody tr th:only-of-type {\n",
       "        vertical-align: middle;\n",
       "    }\n",
       "\n",
       "    .dataframe tbody tr th {\n",
       "        vertical-align: top;\n",
       "    }\n",
       "\n",
       "    .dataframe thead th {\n",
       "        text-align: right;\n",
       "    }\n",
       "</style>\n",
       "<table border=\"1\" class=\"dataframe\">\n",
       "  <thead>\n",
       "    <tr style=\"text-align: right;\">\n",
       "      <th></th>\n",
       "      <th>bedrooms</th>\n",
       "      <th>beds</th>\n",
       "      <th>availability_365</th>\n",
       "      <th>review_scores_rating</th>\n",
       "      <th>price</th>\n",
       "    </tr>\n",
       "  </thead>\n",
       "  <tbody>\n",
       "    <tr>\n",
       "      <th>count</th>\n",
       "      <td>42760.000000</td>\n",
       "      <td>42760.000000</td>\n",
       "      <td>42760.000000</td>\n",
       "      <td>42760.000000</td>\n",
       "      <td>42760.000000</td>\n",
       "    </tr>\n",
       "    <tr>\n",
       "      <th>mean</th>\n",
       "      <td>0.925561</td>\n",
       "      <td>1.659121</td>\n",
       "      <td>137.280566</td>\n",
       "      <td>3.529638</td>\n",
       "      <td>225.801146</td>\n",
       "    </tr>\n",
       "    <tr>\n",
       "      <th>std</th>\n",
       "      <td>1.056797</td>\n",
       "      <td>1.173399</td>\n",
       "      <td>137.250987</td>\n",
       "      <td>2.072405</td>\n",
       "      <td>824.185898</td>\n",
       "    </tr>\n",
       "    <tr>\n",
       "      <th>min</th>\n",
       "      <td>0.000000</td>\n",
       "      <td>1.000000</td>\n",
       "      <td>0.000000</td>\n",
       "      <td>0.000000</td>\n",
       "      <td>10.000000</td>\n",
       "    </tr>\n",
       "    <tr>\n",
       "      <th>25%</th>\n",
       "      <td>0.000000</td>\n",
       "      <td>1.000000</td>\n",
       "      <td>0.000000</td>\n",
       "      <td>1.000000</td>\n",
       "      <td>80.000000</td>\n",
       "    </tr>\n",
       "    <tr>\n",
       "      <th>50%</th>\n",
       "      <td>1.000000</td>\n",
       "      <td>1.000000</td>\n",
       "      <td>89.000000</td>\n",
       "      <td>4.710000</td>\n",
       "      <td>138.000000</td>\n",
       "    </tr>\n",
       "    <tr>\n",
       "      <th>75%</th>\n",
       "      <td>1.000000</td>\n",
       "      <td>2.000000</td>\n",
       "      <td>278.000000</td>\n",
       "      <td>4.950000</td>\n",
       "      <td>229.000000</td>\n",
       "    </tr>\n",
       "    <tr>\n",
       "      <th>max</th>\n",
       "      <td>26.000000</td>\n",
       "      <td>42.000000</td>\n",
       "      <td>365.000000</td>\n",
       "      <td>5.000000</td>\n",
       "      <td>90120.000000</td>\n",
       "    </tr>\n",
       "  </tbody>\n",
       "</table>\n",
       "</div>"
      ],
      "text/plain": [
       "           bedrooms          beds  availability_365  review_scores_rating  \\\n",
       "count  42760.000000  42760.000000      42760.000000          42760.000000   \n",
       "mean       0.925561      1.659121        137.280566              3.529638   \n",
       "std        1.056797      1.173399        137.250987              2.072405   \n",
       "min        0.000000      1.000000          0.000000              0.000000   \n",
       "25%        0.000000      1.000000          0.000000              1.000000   \n",
       "50%        1.000000      1.000000         89.000000              4.710000   \n",
       "75%        1.000000      2.000000        278.000000              4.950000   \n",
       "max       26.000000     42.000000        365.000000              5.000000   \n",
       "\n",
       "              price  \n",
       "count  42760.000000  \n",
       "mean     225.801146  \n",
       "std      824.185898  \n",
       "min       10.000000  \n",
       "25%       80.000000  \n",
       "50%      138.000000  \n",
       "75%      229.000000  \n",
       "max    90120.000000  "
      ]
     },
     "execution_count": 175,
     "metadata": {},
     "output_type": "execute_result"
    }
   ],
   "source": [
    "df2.describe()\n"
   ]
  },
  {
   "cell_type": "code",
   "execution_count": 181,
   "metadata": {},
   "outputs": [],
   "source": [
    "# sns.scatterplot(data=df2, x='availability_365', y='review_scores_rating')\n"
   ]
  },
  {
   "cell_type": "code",
   "execution_count": 177,
   "metadata": {},
   "outputs": [
    {
     "name": "stderr",
     "output_type": "stream",
     "text": [
      "C:\\Users\\xobed\\AppData\\Local\\Temp\\ipykernel_12376\\1243383468.py:1: FutureWarning: The default value of numeric_only in DataFrame.corr is deprecated. In a future version, it will default to False. Select only valid columns or specify the value of numeric_only to silence this warning.\n",
      "  sns.heatmap(data=df2.corr(), annot=True)\n"
     ]
    },
    {
     "data": {
      "text/plain": [
       "<Axes: >"
      ]
     },
     "execution_count": 177,
     "metadata": {},
     "output_type": "execute_result"
    },
    {
     "data": {
      "image/png": "[encoded data removed]",
      "text/plain": [
       "<Figure size 640x480 with 2 Axes>"
      ]
     },
     "metadata": {},
     "output_type": "display_data"
    }
   ],
   "source": [
    "sns.heatmap(data=df2.corr(), annot=True)\n"
   ]
  },
  {
   "cell_type": "markdown",
   "metadata": {},
   "source": [
    "# From this chart we conclude:\n",
    "\n",
    "1. **Bedrooms and Beds:**\n",
    "\n",
    "   - The correlation coefficient between \"bedrooms\" and \"beds\" is 0.694876, indicating a strong positive correlation. This suggests that listings with more bedrooms tend to have more beds, which is expected.\n",
    "\n",
    "2. **Bedrooms and Availability:**\n",
    "\n",
    "   - The correlation coefficient between \"bedrooms\" and \"availability_365\" is 0.091481, which suggests a very weak positive correlation. There's a slight tendency for listings with more bedrooms to have slightly higher availability throughout the year, but the correlation is not significant.\n",
    "\n",
    "3. **Bedrooms and Review Scores Rating:**\n",
    "\n",
    "   - The correlation coefficient between \"bedrooms\" and \"review_scores_rating\" is -0.021898, indicating a very weak negative correlation. There's no significant relationship between the number of bedrooms and review scores.\n",
    "\n",
    "4. **Bedrooms and Price:**\n",
    "\n",
    "   - The correlation coefficient between \"bedrooms\" and \"price\" is 0.275764, showing a positive correlation. Listings with more bedrooms tend to have higher prices.\n",
    "\n",
    "5. **Beds and Availability:**\n",
    "\n",
    "   - The correlation coefficient between \"beds\" and \"availability_365\" is 0.111253, indicating a weak positive correlation. Listings with more beds have slightly higher availability, but the correlation is not strong.\n",
    "\n",
    "6. **Beds and Review Scores Rating:**\n",
    "\n",
    "   - The correlation coefficient between \"beds\" and \"review_scores_rating\" is 0.027615, suggesting a very weak positive correlation. There's no significant relationship between the number of beds and review scores.\n",
    "\n",
    "7. **Beds and Price:**\n",
    "\n",
    "   - The correlation coefficient between \"beds\" and \"price\" is 0.274340, indicating a positive correlation. Listings with more beds tend to have higher prices.\n",
    "\n",
    "8. **Availability and Review Scores Rating:**\n",
    "\n",
    "   - The correlation coefficient between \"availability_365\" and \"review_scores_rating\" is -0.019878, indicating a very weak negative correlation. There's no significant relationship between availability and review scores.\n",
    "\n",
    "9. **Availability and Price:**\n",
    "\n",
    "   - The correlation coefficient between \"availability_365\" and \"price\" is 0.089042, suggesting a weak positive correlation. Listings with higher availability throughout the year tend to have slightly higher prices.\n",
    "\n",
    "10. **Review Scores Rating and Price:**\n",
    "    - The correlation coefficient between \"review_scores_rating\" and \"price\" is -0.110308, indicating a negative correlation. Listings with higher review scores tend to have slightly lower prices.\n"
   ]
  },
  {
   "cell_type": "markdown",
   "metadata": {},
   "source": [
    "# Aggregated Insights:\n",
    "\n",
    "1. **Accommodation Characteristics:**\n",
    "\n",
    "   - The dataset includes listings with varying numbers of bedrooms and beds, with a median of 1 bedroom and 1 bed per listing.\n",
    "   - Majority of listings are \"Entire home/apt\" or \"Private room\" accommodations, indicating a preference for privacy and personal space.\n",
    "\n",
    "2. **Availability and Review Scores:**\n",
    "\n",
    "   - Listings are available for an average of approximately 137 days per year, with wide variability.\n",
    "   - Review scores ratings vary, with a median of 4.71 out of 5. Some listings have very low scores.\n",
    "\n",
    "3. **Pricing Insights:**\n",
    "\n",
    "   - The mean price is $225.80, but the presence of high-priced outliers significantly affects this value.\n",
    "   - The median price is $138.00, suggesting that most listings are priced around this range.\n",
    "   - The distribution of prices is positively skewed, indicating high-priced outliers.\n",
    "\n",
    "4. **Data Visualization:**\n",
    "   - Box plots and histograms provide visual insights into the spread and shape of the price distribution.\n",
    "   - Scatter plots help explore relationships between variables, revealing correlations and patterns.\n",
    "   - Kernel density plots provide a smoothed view of variable distributions.\n",
    "\n",
    "# Recommendations for Decision Makers:\n",
    "\n",
    "1. **Pricing Strategy:**\n",
    "\n",
    "   - Analyze the distribution of prices carefully to understand the impact of high-priced outliers. Consider investigating and validating the legitimacy of these outliers.\n",
    "   - Consider adjusting pricing strategies to align with the majority of listings within the median range to attract a broader range of potential guests.\n",
    "\n",
    "2. **Review Scores Improvement:**\n",
    "\n",
    "   - Address the listings with low review scores. Identify the reasons behind poor ratings and work on improving the quality of those accommodations.\n",
    "   - Promote best practices among hosts to enhance the overall guest experience and maintain positive reviews.\n",
    "\n",
    "3. **Market Segmentation:**\n",
    "\n",
    "   - Given the popularity of \"Entire home/apt\" and \"Private room\" listings, focus on catering to these preferences by ensuring a comfortable and private experience for guests.\n",
    "\n",
    "4. **Availability Management:**\n",
    "\n",
    "   - Manage the availability of listings more effectively. Listings with very low availability might be missing out on potential bookings, while those with high availability might need adjustments to attract more bookings.\n",
    "\n",
    "5. **Data Integrity:**\n",
    "\n",
    "   - Ensure data accuracy and investigate any anomalies, especially in terms of prices and review scores. Incorrect or outlier data can skew analyses and decisions.\n",
    "\n",
    "6. **Competitor Analysis:**\n",
    "\n",
    "   - Compare the price distribution, review scores, and availability of your listings with competitors' to identify strengths and areas for improvement.\n",
    "\n",
    "7. **Customer Insights:**\n",
    "\n",
    "   - Collect additional customer feedback to understand preferences and pain points, which can guide future decision-making and improvements.\n",
    "\n",
    "8. **Marketing and Communication:**\n",
    "   - Leverage positive review scores and competitive pricing in marketing efforts to attract potential guests.\n"
   ]
  },
  {
   "cell_type": "code",
   "execution_count": null,
   "metadata": {},
   "outputs": [],
   "source": []
  }
 ],
 "metadata": {
  "kernelspec": {
   "display_name": "Python 3",
   "language": "python",
   "name": "python3"
  },
  "language_info": {
   "codemirror_mode": {
    "name": "ipython",
    "version": 3
   },
   "file_extension": ".py",
   "mimetype": "text/x-python",
   "name": "python",
   "nbconvert_exporter": "python",
   "pygments_lexer": "ipython3",
   "version": "3.10.8"
  },
  "orig_nbformat": 4
 },
 "nbformat": 4,
 "nbformat_minor": 2
}
